{
 "cells": [
  {
   "cell_type": "markdown",
   "metadata": {},
   "source": [
    "#                               ***Amazon_Sales_Dataset for EDA***"
   ]
  },
  {
   "cell_type": "markdown",
   "metadata": {},
   "source": [
    "## **About Author:**\n",
    "\n",
    "***Author* : Santosh_Reddy_R**\n",
    "\n",
    "***Project* : Amazon_Sales_Data_for_Exploratory_Data_Analysis**\n",
    "\n",
    "## **Contact Info**\n",
    "\n",
    "**Email :** *santoshreddy.sfx@gmail.com*\n",
    "\n",
    "**LinkedIn :** *www.linkedin.com/in/santosh-reddy-a49470193*\n",
    "\n",
    "## **Dataset Columns Names**\n",
    "\n",
    "#### **This dataset is having the data of 1K+ Amazon Product's Ratings and Reviews as per their details listed on the official website of Amazon.**\n",
    "\n",
    "### **Features**\n",
    "\n",
    "***product_id - Product ID***\n",
    "\n",
    "***product_name - Name of the Product***\n",
    "\n",
    "***category - Category of the Product***\n",
    "\n",
    "***discounted_price - Discounted Price of the Product***\n",
    "\n",
    "***actual_price - Actual Price of the Product***\n",
    "\n",
    "***discount_percentage - Percentage of Discount for the Product***\n",
    "\n",
    "***rating - Rating of the Product***\n",
    "\n",
    "***rating_count - Number of people who voted for the Amazon rating***\n",
    "\n",
    "***about_product - Description about the Product***\n",
    "\n",
    "***user_id - ID of the user who wrote review for the Product***\n",
    "\n",
    "***user_name - Name of the user who wrote review for the Product***\n",
    "\n",
    "***review_id - ID of the user review***\n",
    "\n",
    "***review_title - Short review***\n",
    "\n",
    "***review_content - Long review***\n",
    "\n",
    "***img_link - Image Link of the Product***\n",
    "\n",
    "***product_link - Official Website Link of the Product***\n",
    "\n",
    "## **Metadata** \n",
    "\n",
    "### **Source:**\n",
    "***This dataset is scraped from the official website of Amazon\\***\n",
    "\n",
    "### **Collection Methodology:** \n",
    "***This dataset is scraped through BeautifulSoup and WebDriver using Python***\n",
    "\n",
    "### **License:**\n",
    "***CC BY-NC-SA 4.0***\n",
    "\n",
    "## **Task**\n",
    "\n",
    "***Exploring the Amazon Sales Dataset involves a step-by-step process. First, we clean and prepare the data to ensure it's accurate and consistent. Then, we summarize the data using descriptive statistics like averages and ranges. Next, we visualize the data with charts and graphs to see patterns and relationships. We detect outliers, which are unusual data points, and test our assumptions about the data. We divide the data into groups for better understanding and finally, we summarize our findings.***\n",
    "\n",
    "## **Objectives**\n",
    "\n",
    "***The primary objective of analyzing the Amazon Sales Dataset is delve into product categories, prices, ratings, and sales patterns to identify characteristics that resonate with consumers and propel them to purchase.***\n",
    "\n",
    "***Delve into product categories, prices, ratings, and sales patterns to identify characteristics that resonate with consumers and propel them to purchase.***\n",
    "\n",
    "***Translate insights into actionable recommendations that optimize product development, inform marketing strategies, and boost your competitive edge.***\n",
    "\n",
    "***Equip businesses with the knowledge to create products that cater to evolving consumer needs and desires.***\n",
    "\n",
    "***Craft communication strategies that resonate with specific demographics and maximize engagement.***\n",
    "\n",
    "***Facilitate a marketplace where products find their perfect match in the hearts of consumers.***\n",
    "\n",
    "## **Kernel Version Used**\n",
    "***Python 3.12.0***"
   ]
  },
  {
   "cell_type": "markdown",
   "metadata": {},
   "source": [
    "## **Import Libraries**\n",
    "\n",
    "### **We will use the following libraries**\n",
    "\n",
    "***1. Pandas: Data manipulation and analysis***\n",
    "\n",
    "***2. Numpy: Numerical operations and calculations***\n",
    "\n",
    "***3. Matplotlib: Data visualization and plotting***\n",
    "\n",
    "***4. Seaborn: Enhanced data visualization and statistical graphics***\n",
    "\n",
    "***5. Scipy: Scientific computing and advanced mathematical operations***"
   ]
  },
  {
   "cell_type": "code",
   "execution_count": 2,
   "metadata": {
    "execution": {
     "iopub.execute_input": "2024-08-15T05:18:49.728835Z",
     "iopub.status.busy": "2024-08-15T05:18:49.727891Z",
     "iopub.status.idle": "2024-08-15T05:18:50.942662Z",
     "shell.execute_reply": "2024-08-15T05:18:50.941607Z",
     "shell.execute_reply.started": "2024-08-15T05:18:49.728790Z"
    }
   },
   "outputs": [],
   "source": [
    "import pandas as pd\n",
    "import numpy as np\n",
    "import matplotlib.pyplot as plt\n",
    "import seaborn as sns\n",
    "import scipy as sp\n",
    "# this is for jupyter notebook to show the plot in the notebook itself instead of opening a new window\n",
    "%matplotlib inline\n",
    "import warnings\n",
    "warnings.filterwarnings('ignore')"
   ]
  },
  {
   "cell_type": "markdown",
   "metadata": {},
   "source": [
    "## **Data Loading and Exploration | Cleaning**\n",
    "\n",
    "### **Load a CSV file then creating a dataframe**"
   ]
  },
  {
   "cell_type": "code",
   "execution_count": 3,
   "metadata": {
    "execution": {
     "iopub.execute_input": "2024-08-15T05:18:50.945067Z",
     "iopub.status.busy": "2024-08-15T05:18:50.944585Z",
     "iopub.status.idle": "2024-08-15T05:18:52.102166Z",
     "shell.execute_reply": "2024-08-15T05:18:52.100663Z",
     "shell.execute_reply.started": "2024-08-15T05:18:50.945036Z"
    }
   },
   "outputs": [
    {
     "name": "stdout",
     "output_type": "stream",
     "text": [
      "ls: cannot access '/kaggle/input/amazon-sales-data-for-exploratory-data-analysis': No such file or directory\n"
     ]
    }
   ],
   "source": [
    "# To check whether the dataset name saved\n",
    "!ls /kaggle/input/amazon-sales-data-for-exploratory-data-analysis"
   ]
  },
  {
   "cell_type": "code",
   "execution_count": 4,
   "metadata": {
    "_cell_guid": "b1076dfc-b9ad-4769-8c92-a6c4dae69d19",
    "_uuid": "8f2839f25d086af736a60e9eeb907d3b93b6e0e5",
    "execution": {
     "iopub.execute_input": "2024-08-15T05:18:52.104722Z",
     "iopub.status.busy": "2024-08-15T05:18:52.104321Z",
     "iopub.status.idle": "2024-08-15T05:18:52.121518Z",
     "shell.execute_reply": "2024-08-15T05:18:52.120104Z",
     "shell.execute_reply.started": "2024-08-15T05:18:52.104671Z"
    }
   },
   "outputs": [
    {
     "name": "stdout",
     "output_type": "stream",
     "text": [
      "/kaggle/input/amazon-sales-data-for-eda/Amazon_data.csv\n"
     ]
    }
   ],
   "source": [
    "# This Python 3 environment comes with many helpful analytics libraries installed\n",
    "# It is defined by the kaggle/python Docker image: https://github.com/kaggle/docker-python\n",
    "# For example, here's several helpful packages to load\n",
    "\n",
    "import numpy as np # linear algebra\n",
    "import pandas as pd # data processing, CSV file I/O (e.g. pd.read_csv)\n",
    "\n",
    "# Input data files are available in the read-only \"../input/\" directory\n",
    "# For example, running this (by clicking run or pressing Shift+Enter) will list all files under the input directory\n",
    "\n",
    "import os\n",
    "for dirname, _, filenames in os.walk('/kaggle/input'):\n",
    "    for filename in filenames:\n",
    "        print(os.path.join(dirname, filename))\n",
    "\n",
    "# You can write up to 20GB to the current directory (/kaggle/working/) that gets preserved as output when you create a version using \"Save & Run All\" \n",
    "# You can also write temporary files to /kaggle/temp/, but they won't be saved outside of the current session"
   ]
  },
  {
   "cell_type": "code",
   "execution_count": 5,
   "metadata": {
    "execution": {
     "iopub.execute_input": "2024-08-15T05:18:52.125550Z",
     "iopub.status.busy": "2024-08-15T05:18:52.124932Z",
     "iopub.status.idle": "2024-08-15T05:18:52.287101Z",
     "shell.execute_reply": "2024-08-15T05:18:52.285969Z",
     "shell.execute_reply.started": "2024-08-15T05:18:52.125517Z"
    }
   },
   "outputs": [],
   "source": [
    "df=pd.read_csv(\"/kaggle/input/amazon-sales-data-for-eda/Amazon_data.csv\")"
   ]
  },
  {
   "cell_type": "code",
   "execution_count": 6,
   "metadata": {
    "execution": {
     "iopub.execute_input": "2024-08-15T05:18:52.288856Z",
     "iopub.status.busy": "2024-08-15T05:18:52.288438Z",
     "iopub.status.idle": "2024-08-15T05:18:52.329623Z",
     "shell.execute_reply": "2024-08-15T05:18:52.328276Z",
     "shell.execute_reply.started": "2024-08-15T05:18:52.288819Z"
    }
   },
   "outputs": [
    {
     "data": {
      "text/html": [
       "<div>\n",
       "<style scoped>\n",
       "    .dataframe tbody tr th:only-of-type {\n",
       "        vertical-align: middle;\n",
       "    }\n",
       "\n",
       "    .dataframe tbody tr th {\n",
       "        vertical-align: top;\n",
       "    }\n",
       "\n",
       "    .dataframe thead th {\n",
       "        text-align: right;\n",
       "    }\n",
       "</style>\n",
       "<table border=\"1\" class=\"dataframe\">\n",
       "  <thead>\n",
       "    <tr style=\"text-align: right;\">\n",
       "      <th></th>\n",
       "      <th>product_id</th>\n",
       "      <th>product_name</th>\n",
       "      <th>category</th>\n",
       "      <th>sub_category</th>\n",
       "      <th>discounted_price</th>\n",
       "      <th>actual_price</th>\n",
       "      <th>discount_percentage</th>\n",
       "      <th>rating</th>\n",
       "      <th>rating_count</th>\n",
       "      <th>about_product</th>\n",
       "      <th>user_id</th>\n",
       "      <th>user_name</th>\n",
       "      <th>review_id</th>\n",
       "      <th>review_title</th>\n",
       "      <th>review_content</th>\n",
       "      <th>img_link</th>\n",
       "      <th>product_link</th>\n",
       "    </tr>\n",
       "  </thead>\n",
       "  <tbody>\n",
       "    <tr>\n",
       "      <th>0</th>\n",
       "      <td>B0BMTZ4T1D</td>\n",
       "      <td>1000 Watt or 2000 Watt Room Heater</td>\n",
       "      <td>Home&amp;Kitchen</td>\n",
       "      <td>FanHeaters</td>\n",
       "      <td>₹ 784.00</td>\n",
       "      <td>₹ 1,599.00</td>\n",
       "      <td>51%</td>\n",
       "      <td>4.5</td>\n",
       "      <td>11</td>\n",
       "      <td>High Compatibility : Compatible With iPhone 12...</td>\n",
       "      <td>AG3D6O4STAQKAY2UVGEUV46KN35Q,AHMY5CWJMMK5BJRBB...</td>\n",
       "      <td>Manav,Adarsh gupta,Sundeep,S.Sayeed Ahmed,jasp...</td>\n",
       "      <td>R3HXWT0LRP0NMF,R2AJM3LFTLZHFO,R6AQJGUP6P86,R1K...</td>\n",
       "      <td>Satisfied,Charging is really fast,Value for mo...</td>\n",
       "      <td>Looks durable Charging is fine tooNo complains...</td>\n",
       "      <td>https://m.media-amazon.com/images/W/WEBP_40237...</td>\n",
       "      <td>https://www.amazon.in/Wayona-Braided-WN3LG1-Sy...</td>\n",
       "    </tr>\n",
       "    <tr>\n",
       "      <th>1</th>\n",
       "      <td>B08TGG316Z</td>\n",
       "      <td>HANEUL 1000 Wattor2000 Watt Room Heater</td>\n",
       "      <td>Electronics</td>\n",
       "      <td>Cables</td>\n",
       "      <td>₹ 999.00</td>\n",
       "      <td>₹ 2,399.00</td>\n",
       "      <td>58%</td>\n",
       "      <td>4.6</td>\n",
       "      <td>3,664</td>\n",
       "      <td>Compatible with all Type C enabled devices, be...</td>\n",
       "      <td>AECPFYFQVRUWC3KGNLJIOREFP5LQ,AGYYVPDD7YG7FYNBX...</td>\n",
       "      <td>ArdKn,Nirbhay kumar,Sagar Viswanathan,Asp,Plac...</td>\n",
       "      <td>RGIQEG07R9HS2,R1SMWZQ86XIN8U,R2J3Y1WL29GWDE,RY...</td>\n",
       "      <td>A Good Braided Cable for Your Type C Device,Go...</td>\n",
       "      <td>I ordered this cable to connect my phone to An...</td>\n",
       "      <td>https://m.media-amazon.com/images/W/WEBP_40237...</td>\n",
       "      <td>https://www.amazon.in/Ambrane-Unbreakable-Char...</td>\n",
       "    </tr>\n",
       "    <tr>\n",
       "      <th>2</th>\n",
       "      <td>B09RFB2SJQ</td>\n",
       "      <td>10k 8k 4k HDM Cable</td>\n",
       "      <td>Electronics</td>\n",
       "      <td>SmartWatches</td>\n",
       "      <td>₹ 499.00</td>\n",
       "      <td>₹ 1,899.00</td>\n",
       "      <td>74%</td>\n",
       "      <td>4.1</td>\n",
       "      <td>412</td>\n",
       "      <td>ã€ Fast Charger&amp; Data Syncã€‘-With built-in s...</td>\n",
       "      <td>AGU3BBQ2V2DDAMOAKGFAWDDQ6QHA,AESFLDV2PT363T2AQ...</td>\n",
       "      <td>Kunal,Himanshu,viswanath,sai niharka,saqib mal...</td>\n",
       "      <td>R3J3EQQ9TZI5ZJ,R3E7WBGK7ID0KV,RWU79XKQ6I1QF,R2...</td>\n",
       "      <td>Good speed for earlier versions,Good Product,W...</td>\n",
       "      <td>Not quite durable and sturdy,https://m.media-a...</td>\n",
       "      <td>https://m.media-amazon.com/images/W/WEBP_40237...</td>\n",
       "      <td>https://www.amazon.in/Sounce-iPhone-Charging-C...</td>\n",
       "    </tr>\n",
       "    <tr>\n",
       "      <th>3</th>\n",
       "      <td>B00N1U7JXM</td>\n",
       "      <td>10WeRun Bluetooth Smartwatch Wreless Band</td>\n",
       "      <td>OfficeProducts</td>\n",
       "      <td>OfficePaperProducts</td>\n",
       "      <td>₹ 90.00</td>\n",
       "      <td>₹ 175.00</td>\n",
       "      <td>49%</td>\n",
       "      <td>4.4</td>\n",
       "      <td>7,429</td>\n",
       "      <td>The boAt Deuce USB 300 2 in 1 cable is compati...</td>\n",
       "      <td>AEWAZDZZJLQUYVOVGBEUKSLXHQ5A,AG5HTSFRRE6NL3M5S...</td>\n",
       "      <td>Omkar dhale,JD,HEMALATHA,Ajwadh a.,amar singh ...</td>\n",
       "      <td>R3EEUZKKK9J36I,R3HJVYCLYOY554,REDECAZ7AMPQC,R1...</td>\n",
       "      <td>Good product,Good one,Nice,Really nice product...</td>\n",
       "      <td>Good product,long wire,Charges good,Nice,I bou...</td>\n",
       "      <td>https://m.media-amazon.com/images/I/41V5FtEWPk...</td>\n",
       "      <td>https://www.amazon.in/Deuce-300-Resistant-Tang...</td>\n",
       "    </tr>\n",
       "    <tr>\n",
       "      <th>4</th>\n",
       "      <td>B00N1U9AJS</td>\n",
       "      <td>3M Post t Stcky Note Cube</td>\n",
       "      <td>Home&amp;Kitchen</td>\n",
       "      <td>Tape</td>\n",
       "      <td>₹ 130.00</td>\n",
       "      <td>₹ 165.00</td>\n",
       "      <td>21%</td>\n",
       "      <td>3.9</td>\n",
       "      <td>14,778</td>\n",
       "      <td>[CHARGE &amp; SYNC FUNCTION]- This cable comes wit...</td>\n",
       "      <td>AE3Q6KSUK5P75D5HFYHCRAOLODSA,AFUGIFH5ZAFXRDSZH...</td>\n",
       "      <td>rahuls6099,Swasat Borah,Ajay Wadke,Pranali,RVK...</td>\n",
       "      <td>R1BP4L2HH9TFUP,R16PVJEXKV6QZS,R2UPDB81N66T4P,R...</td>\n",
       "      <td>As good as original,Decent,Good one for second...</td>\n",
       "      <td>Bought this instead of original apple, does th...</td>\n",
       "      <td>https://m.media-amazon.com/images/W/WEBP_40237...</td>\n",
       "      <td>https://www.amazon.in/Portronics-Konnect-POR-1...</td>\n",
       "    </tr>\n",
       "    <tr>\n",
       "      <th>...</th>\n",
       "      <td>...</td>\n",
       "      <td>...</td>\n",
       "      <td>...</td>\n",
       "      <td>...</td>\n",
       "      <td>...</td>\n",
       "      <td>...</td>\n",
       "      <td>...</td>\n",
       "      <td>...</td>\n",
       "      <td>...</td>\n",
       "      <td>...</td>\n",
       "      <td>...</td>\n",
       "      <td>...</td>\n",
       "      <td>...</td>\n",
       "      <td>...</td>\n",
       "      <td>...</td>\n",
       "      <td>...</td>\n",
       "      <td>...</td>\n",
       "    </tr>\n",
       "    <tr>\n",
       "      <th>1460</th>\n",
       "      <td>B08QSC1XY8</td>\n",
       "      <td>Zoul USB C 60W Fast Chargng 3A Data Quck Charg...</td>\n",
       "      <td>Computers&amp;Accessories</td>\n",
       "      <td>Accessories&amp;Peripherals</td>\n",
       "      <td>₹ 389.00</td>\n",
       "      <td>₹ 1,099.00</td>\n",
       "      <td>65%</td>\n",
       "      <td>4.3</td>\n",
       "      <td>974</td>\n",
       "      <td>SUPREME QUALITY 90 GRAM 3 LAYER THIK PP SPUN F...</td>\n",
       "      <td>AHITFY6AHALOFOHOZEOC6XBP4FEA,AFRABBODZJZQB6Z4U...</td>\n",
       "      <td>Prabha ds,Raghuram bk,Real Deal,Amazon Custome...</td>\n",
       "      <td>R3G3XFHPBFF0E8,R3C0BZCD32EIGW,R2EBVBCN9QPD9R,R...</td>\n",
       "      <td>Received the product without spanner,Excellent...</td>\n",
       "      <td>I received product without spanner,Excellent p...</td>\n",
       "      <td>https://m.media-amazon.com/images/I/41fDdRtjfx...</td>\n",
       "      <td>https://www.amazon.in/Noir-Aqua-Spanner-Purifi...</td>\n",
       "    </tr>\n",
       "    <tr>\n",
       "      <th>1461</th>\n",
       "      <td>B08PSVBB2X</td>\n",
       "      <td>Zoul USB C 60W Fast Chargng 3A Data Quck Charg...</td>\n",
       "      <td>Computers&amp;Accessories</td>\n",
       "      <td>Cables</td>\n",
       "      <td>₹ 399.00</td>\n",
       "      <td>₹ 1,099.00</td>\n",
       "      <td>64%</td>\n",
       "      <td>4.1</td>\n",
       "      <td>2,685</td>\n",
       "      <td>230 Volts, 400 watts, 1 Year</td>\n",
       "      <td>AFG5FM3NEMOL6BNFRV2NK5FNJCHQ,AGEINTRN6Z563RMLH...</td>\n",
       "      <td>Manu Bhai,Naveenpittu,Evatira Sangma,JAGANNADH...</td>\n",
       "      <td>R3DDL2UPKQ2CK9,R2SYYU1OATVIU5,R1VM993161IYRW,R...</td>\n",
       "      <td>ok,everything was good couldn't return bcoz I ...</td>\n",
       "      <td>ok,got everything as mentioned but the measuri...</td>\n",
       "      <td>https://m.media-amazon.com/images/I/41gzDxk4+k...</td>\n",
       "      <td>https://www.amazon.in/Prestige-Delight-PRWO-1-...</td>\n",
       "    </tr>\n",
       "    <tr>\n",
       "      <th>1462</th>\n",
       "      <td>B08QSDKFGQ</td>\n",
       "      <td>Zoul USB C to USB C Fast Chargng Cable</td>\n",
       "      <td>Computers&amp;Accessories</td>\n",
       "      <td>Cables</td>\n",
       "      <td>₹ 339.00</td>\n",
       "      <td>₹ 1,099.00</td>\n",
       "      <td>69%</td>\n",
       "      <td>4.3</td>\n",
       "      <td>974</td>\n",
       "      <td>International design and styling|Two heat sett...</td>\n",
       "      <td>AGVPWCMAHYQWJOQKMUJN4DW3KM5Q,AF4Q3E66MY4SR7YQZ...</td>\n",
       "      <td>Nehal Desai,Danish Parwez,Amazon Customer,Amaz...</td>\n",
       "      <td>R1TLRJVW4STY5I,R2O455KRN493R1,R3Q5MVGBRIAS2G,R...</td>\n",
       "      <td>very good,Work but front melt after 2 month,Go...</td>\n",
       "      <td>plastic but cool body ,u have to find sturdy s...</td>\n",
       "      <td>https://m.media-amazon.com/images/W/WEBP_40237...</td>\n",
       "      <td>https://www.amazon.in/Bajaj-RX-10-2000-Watt-Co...</td>\n",
       "    </tr>\n",
       "    <tr>\n",
       "      <th>1463</th>\n",
       "      <td>B0B8ZM9RVV</td>\n",
       "      <td>Zuvexa Egg Boler Poacher Automatc Off Steamng</td>\n",
       "      <td>Home&amp;Kitchen</td>\n",
       "      <td>EggBoilers</td>\n",
       "      <td>₹ 419.00</td>\n",
       "      <td>₹ 999.00</td>\n",
       "      <td>58%</td>\n",
       "      <td>4.4</td>\n",
       "      <td>227</td>\n",
       "      <td>Fan sweep area: 230 MM ; Noise level: (40 - 45...</td>\n",
       "      <td>AF2JQCLSCY3QJATWUNNHUSVUPNQQ,AFDMLUXC5LS5RXDJS...</td>\n",
       "      <td>Shubham Dubey,E.GURUBARAN,Mayank S.,eusuf khan...</td>\n",
       "      <td>R39Q2Y79MM9SWK,R3079BG1NIH6MB,R29A31ZELTZNJM,R...</td>\n",
       "      <td>Fan Speed is slow,Good quality,Good product,go...</td>\n",
       "      <td>I have installed this in my kitchen working fi...</td>\n",
       "      <td>https://m.media-amazon.com/images/W/WEBP_40237...</td>\n",
       "      <td>https://www.amazon.in/Havells-Ventilair-230mm-...</td>\n",
       "    </tr>\n",
       "    <tr>\n",
       "      <th>1464</th>\n",
       "      <td>B0BLC2BYPX</td>\n",
       "      <td>Zuvexa USB Rechargeable Electrc Foam Maker</td>\n",
       "      <td>Home&amp;Kitchen</td>\n",
       "      <td>HandBlenders</td>\n",
       "      <td>₹ 499.00</td>\n",
       "      <td>₹ 1,299.00</td>\n",
       "      <td>62%</td>\n",
       "      <td>4.7</td>\n",
       "      <td>54</td>\n",
       "      <td>Brand-Borosil, Specification Ã¢â‚¬â€œ 23V ~ 5H...</td>\n",
       "      <td>AFGW5PT3R6ZAVQR4Y5MWVAKBZAYA,AG7QNJ2SCS5VS5VYY...</td>\n",
       "      <td>Rajib,Ajay B,Vikas Kahol,PARDEEP,Anindya Prama...</td>\n",
       "      <td>R20RBRZ0WEUJT9,ROKIFK9R2ISSE,R30EEG2FNJSN5I,R2...</td>\n",
       "      <td>Works perfect,Ok good product,Nice Product. Re...</td>\n",
       "      <td>It does it job perfectly..only issue is temp c...</td>\n",
       "      <td>https://m.media-amazon.com/images/W/WEBP_40237...</td>\n",
       "      <td>https://www.amazon.in/Borosil-Jumbo-1000-Watt-...</td>\n",
       "    </tr>\n",
       "  </tbody>\n",
       "</table>\n",
       "<p>1465 rows × 17 columns</p>\n",
       "</div>"
      ],
      "text/plain": [
       "      product_id                                       product_name  \\\n",
       "0     B0BMTZ4T1D                 1000 Watt or 2000 Watt Room Heater   \n",
       "1     B08TGG316Z            HANEUL 1000 Wattor2000 Watt Room Heater   \n",
       "2     B09RFB2SJQ                                10k 8k 4k HDM Cable   \n",
       "3     B00N1U7JXM          10WeRun Bluetooth Smartwatch Wreless Band   \n",
       "4     B00N1U9AJS                          3M Post t Stcky Note Cube   \n",
       "...          ...                                                ...   \n",
       "1460  B08QSC1XY8  Zoul USB C 60W Fast Chargng 3A Data Quck Charg...   \n",
       "1461  B08PSVBB2X  Zoul USB C 60W Fast Chargng 3A Data Quck Charg...   \n",
       "1462  B08QSDKFGQ             Zoul USB C to USB C Fast Chargng Cable   \n",
       "1463  B0B8ZM9RVV      Zuvexa Egg Boler Poacher Automatc Off Steamng   \n",
       "1464  B0BLC2BYPX         Zuvexa USB Rechargeable Electrc Foam Maker   \n",
       "\n",
       "                   category             sub_category discounted_price  \\\n",
       "0              Home&Kitchen               FanHeaters        ₹ 784.00    \n",
       "1               Electronics                   Cables        ₹ 999.00    \n",
       "2               Electronics             SmartWatches        ₹ 499.00    \n",
       "3            OfficeProducts      OfficePaperProducts         ₹ 90.00    \n",
       "4              Home&Kitchen                     Tape        ₹ 130.00    \n",
       "...                     ...                      ...              ...   \n",
       "1460  Computers&Accessories  Accessories&Peripherals        ₹ 389.00    \n",
       "1461  Computers&Accessories                   Cables        ₹ 399.00    \n",
       "1462  Computers&Accessories                   Cables        ₹ 339.00    \n",
       "1463           Home&Kitchen               EggBoilers        ₹ 419.00    \n",
       "1464           Home&Kitchen             HandBlenders        ₹ 499.00    \n",
       "\n",
       "      actual_price discount_percentage rating rating_count  \\\n",
       "0      ₹ 1,599.00                  51%    4.5           11   \n",
       "1      ₹ 2,399.00                  58%    4.6        3,664   \n",
       "2      ₹ 1,899.00                  74%    4.1          412   \n",
       "3        ₹ 175.00                  49%    4.4        7,429   \n",
       "4        ₹ 165.00                  21%    3.9       14,778   \n",
       "...            ...                 ...    ...          ...   \n",
       "1460   ₹ 1,099.00                  65%    4.3          974   \n",
       "1461   ₹ 1,099.00                  64%    4.1        2,685   \n",
       "1462   ₹ 1,099.00                  69%    4.3          974   \n",
       "1463     ₹ 999.00                  58%    4.4          227   \n",
       "1464   ₹ 1,299.00                  62%    4.7           54   \n",
       "\n",
       "                                          about_product  \\\n",
       "0     High Compatibility : Compatible With iPhone 12...   \n",
       "1     Compatible with all Type C enabled devices, be...   \n",
       "2     ã€ Fast Charger& Data Syncã€‘-With built-in s...   \n",
       "3     The boAt Deuce USB 300 2 in 1 cable is compati...   \n",
       "4     [CHARGE & SYNC FUNCTION]- This cable comes wit...   \n",
       "...                                                 ...   \n",
       "1460  SUPREME QUALITY 90 GRAM 3 LAYER THIK PP SPUN F...   \n",
       "1461                       230 Volts, 400 watts, 1 Year   \n",
       "1462  International design and styling|Two heat sett...   \n",
       "1463  Fan sweep area: 230 MM ; Noise level: (40 - 45...   \n",
       "1464  Brand-Borosil, Specification Ã¢â‚¬â€œ 23V ~ 5H...   \n",
       "\n",
       "                                                user_id  \\\n",
       "0     AG3D6O4STAQKAY2UVGEUV46KN35Q,AHMY5CWJMMK5BJRBB...   \n",
       "1     AECPFYFQVRUWC3KGNLJIOREFP5LQ,AGYYVPDD7YG7FYNBX...   \n",
       "2     AGU3BBQ2V2DDAMOAKGFAWDDQ6QHA,AESFLDV2PT363T2AQ...   \n",
       "3     AEWAZDZZJLQUYVOVGBEUKSLXHQ5A,AG5HTSFRRE6NL3M5S...   \n",
       "4     AE3Q6KSUK5P75D5HFYHCRAOLODSA,AFUGIFH5ZAFXRDSZH...   \n",
       "...                                                 ...   \n",
       "1460  AHITFY6AHALOFOHOZEOC6XBP4FEA,AFRABBODZJZQB6Z4U...   \n",
       "1461  AFG5FM3NEMOL6BNFRV2NK5FNJCHQ,AGEINTRN6Z563RMLH...   \n",
       "1462  AGVPWCMAHYQWJOQKMUJN4DW3KM5Q,AF4Q3E66MY4SR7YQZ...   \n",
       "1463  AF2JQCLSCY3QJATWUNNHUSVUPNQQ,AFDMLUXC5LS5RXDJS...   \n",
       "1464  AFGW5PT3R6ZAVQR4Y5MWVAKBZAYA,AG7QNJ2SCS5VS5VYY...   \n",
       "\n",
       "                                              user_name  \\\n",
       "0     Manav,Adarsh gupta,Sundeep,S.Sayeed Ahmed,jasp...   \n",
       "1     ArdKn,Nirbhay kumar,Sagar Viswanathan,Asp,Plac...   \n",
       "2     Kunal,Himanshu,viswanath,sai niharka,saqib mal...   \n",
       "3     Omkar dhale,JD,HEMALATHA,Ajwadh a.,amar singh ...   \n",
       "4     rahuls6099,Swasat Borah,Ajay Wadke,Pranali,RVK...   \n",
       "...                                                 ...   \n",
       "1460  Prabha ds,Raghuram bk,Real Deal,Amazon Custome...   \n",
       "1461  Manu Bhai,Naveenpittu,Evatira Sangma,JAGANNADH...   \n",
       "1462  Nehal Desai,Danish Parwez,Amazon Customer,Amaz...   \n",
       "1463  Shubham Dubey,E.GURUBARAN,Mayank S.,eusuf khan...   \n",
       "1464  Rajib,Ajay B,Vikas Kahol,PARDEEP,Anindya Prama...   \n",
       "\n",
       "                                              review_id  \\\n",
       "0     R3HXWT0LRP0NMF,R2AJM3LFTLZHFO,R6AQJGUP6P86,R1K...   \n",
       "1     RGIQEG07R9HS2,R1SMWZQ86XIN8U,R2J3Y1WL29GWDE,RY...   \n",
       "2     R3J3EQQ9TZI5ZJ,R3E7WBGK7ID0KV,RWU79XKQ6I1QF,R2...   \n",
       "3     R3EEUZKKK9J36I,R3HJVYCLYOY554,REDECAZ7AMPQC,R1...   \n",
       "4     R1BP4L2HH9TFUP,R16PVJEXKV6QZS,R2UPDB81N66T4P,R...   \n",
       "...                                                 ...   \n",
       "1460  R3G3XFHPBFF0E8,R3C0BZCD32EIGW,R2EBVBCN9QPD9R,R...   \n",
       "1461  R3DDL2UPKQ2CK9,R2SYYU1OATVIU5,R1VM993161IYRW,R...   \n",
       "1462  R1TLRJVW4STY5I,R2O455KRN493R1,R3Q5MVGBRIAS2G,R...   \n",
       "1463  R39Q2Y79MM9SWK,R3079BG1NIH6MB,R29A31ZELTZNJM,R...   \n",
       "1464  R20RBRZ0WEUJT9,ROKIFK9R2ISSE,R30EEG2FNJSN5I,R2...   \n",
       "\n",
       "                                           review_title  \\\n",
       "0     Satisfied,Charging is really fast,Value for mo...   \n",
       "1     A Good Braided Cable for Your Type C Device,Go...   \n",
       "2     Good speed for earlier versions,Good Product,W...   \n",
       "3     Good product,Good one,Nice,Really nice product...   \n",
       "4     As good as original,Decent,Good one for second...   \n",
       "...                                                 ...   \n",
       "1460  Received the product without spanner,Excellent...   \n",
       "1461  ok,everything was good couldn't return bcoz I ...   \n",
       "1462  very good,Work but front melt after 2 month,Go...   \n",
       "1463  Fan Speed is slow,Good quality,Good product,go...   \n",
       "1464  Works perfect,Ok good product,Nice Product. Re...   \n",
       "\n",
       "                                         review_content  \\\n",
       "0     Looks durable Charging is fine tooNo complains...   \n",
       "1     I ordered this cable to connect my phone to An...   \n",
       "2     Not quite durable and sturdy,https://m.media-a...   \n",
       "3     Good product,long wire,Charges good,Nice,I bou...   \n",
       "4     Bought this instead of original apple, does th...   \n",
       "...                                                 ...   \n",
       "1460  I received product without spanner,Excellent p...   \n",
       "1461  ok,got everything as mentioned but the measuri...   \n",
       "1462  plastic but cool body ,u have to find sturdy s...   \n",
       "1463  I have installed this in my kitchen working fi...   \n",
       "1464  It does it job perfectly..only issue is temp c...   \n",
       "\n",
       "                                               img_link  \\\n",
       "0     https://m.media-amazon.com/images/W/WEBP_40237...   \n",
       "1     https://m.media-amazon.com/images/W/WEBP_40237...   \n",
       "2     https://m.media-amazon.com/images/W/WEBP_40237...   \n",
       "3     https://m.media-amazon.com/images/I/41V5FtEWPk...   \n",
       "4     https://m.media-amazon.com/images/W/WEBP_40237...   \n",
       "...                                                 ...   \n",
       "1460  https://m.media-amazon.com/images/I/41fDdRtjfx...   \n",
       "1461  https://m.media-amazon.com/images/I/41gzDxk4+k...   \n",
       "1462  https://m.media-amazon.com/images/W/WEBP_40237...   \n",
       "1463  https://m.media-amazon.com/images/W/WEBP_40237...   \n",
       "1464  https://m.media-amazon.com/images/W/WEBP_40237...   \n",
       "\n",
       "                                           product_link  \n",
       "0     https://www.amazon.in/Wayona-Braided-WN3LG1-Sy...  \n",
       "1     https://www.amazon.in/Ambrane-Unbreakable-Char...  \n",
       "2     https://www.amazon.in/Sounce-iPhone-Charging-C...  \n",
       "3     https://www.amazon.in/Deuce-300-Resistant-Tang...  \n",
       "4     https://www.amazon.in/Portronics-Konnect-POR-1...  \n",
       "...                                                 ...  \n",
       "1460  https://www.amazon.in/Noir-Aqua-Spanner-Purifi...  \n",
       "1461  https://www.amazon.in/Prestige-Delight-PRWO-1-...  \n",
       "1462  https://www.amazon.in/Bajaj-RX-10-2000-Watt-Co...  \n",
       "1463  https://www.amazon.in/Havells-Ventilair-230mm-...  \n",
       "1464  https://www.amazon.in/Borosil-Jumbo-1000-Watt-...  \n",
       "\n",
       "[1465 rows x 17 columns]"
      ]
     },
     "execution_count": 6,
     "metadata": {},
     "output_type": "execute_result"
    }
   ],
   "source": [
    "df"
   ]
  },
  {
   "cell_type": "markdown",
   "metadata": {},
   "source": [
    "### **Set the option to show maximum columns**"
   ]
  },
  {
   "cell_type": "code",
   "execution_count": 7,
   "metadata": {
    "execution": {
     "iopub.execute_input": "2024-08-15T05:18:52.331765Z",
     "iopub.status.busy": "2024-08-15T05:18:52.331320Z",
     "iopub.status.idle": "2024-08-15T05:18:52.337110Z",
     "shell.execute_reply": "2024-08-15T05:18:52.336046Z",
     "shell.execute_reply.started": "2024-08-15T05:18:52.331704Z"
    }
   },
   "outputs": [],
   "source": [
    "pd.set_option('display.max_columns', None)"
   ]
  },
  {
   "cell_type": "markdown",
   "metadata": {},
   "source": [
    "### **Get a sneak peek of data**\n",
    "\n",
    "***The purpose of a sneak peek is to get a quick overview of the data and identify any potential problems or areas of interest.***"
   ]
  },
  {
   "cell_type": "code",
   "execution_count": 8,
   "metadata": {
    "execution": {
     "iopub.execute_input": "2024-08-15T05:18:52.339640Z",
     "iopub.status.busy": "2024-08-15T05:18:52.338683Z",
     "iopub.status.idle": "2024-08-15T05:18:52.369013Z",
     "shell.execute_reply": "2024-08-15T05:18:52.367698Z",
     "shell.execute_reply.started": "2024-08-15T05:18:52.339610Z"
    }
   },
   "outputs": [
    {
     "data": {
      "text/html": [
       "<div>\n",
       "<style scoped>\n",
       "    .dataframe tbody tr th:only-of-type {\n",
       "        vertical-align: middle;\n",
       "    }\n",
       "\n",
       "    .dataframe tbody tr th {\n",
       "        vertical-align: top;\n",
       "    }\n",
       "\n",
       "    .dataframe thead th {\n",
       "        text-align: right;\n",
       "    }\n",
       "</style>\n",
       "<table border=\"1\" class=\"dataframe\">\n",
       "  <thead>\n",
       "    <tr style=\"text-align: right;\">\n",
       "      <th></th>\n",
       "      <th>product_id</th>\n",
       "      <th>product_name</th>\n",
       "      <th>category</th>\n",
       "      <th>sub_category</th>\n",
       "      <th>discounted_price</th>\n",
       "      <th>actual_price</th>\n",
       "      <th>discount_percentage</th>\n",
       "      <th>rating</th>\n",
       "      <th>rating_count</th>\n",
       "      <th>about_product</th>\n",
       "      <th>user_id</th>\n",
       "      <th>user_name</th>\n",
       "      <th>review_id</th>\n",
       "      <th>review_title</th>\n",
       "      <th>review_content</th>\n",
       "      <th>img_link</th>\n",
       "      <th>product_link</th>\n",
       "    </tr>\n",
       "  </thead>\n",
       "  <tbody>\n",
       "    <tr>\n",
       "      <th>0</th>\n",
       "      <td>B0BMTZ4T1D</td>\n",
       "      <td>1000 Watt or 2000 Watt Room Heater</td>\n",
       "      <td>Home&amp;Kitchen</td>\n",
       "      <td>FanHeaters</td>\n",
       "      <td>₹ 784.00</td>\n",
       "      <td>₹ 1,599.00</td>\n",
       "      <td>51%</td>\n",
       "      <td>4.5</td>\n",
       "      <td>11</td>\n",
       "      <td>High Compatibility : Compatible With iPhone 12...</td>\n",
       "      <td>AG3D6O4STAQKAY2UVGEUV46KN35Q,AHMY5CWJMMK5BJRBB...</td>\n",
       "      <td>Manav,Adarsh gupta,Sundeep,S.Sayeed Ahmed,jasp...</td>\n",
       "      <td>R3HXWT0LRP0NMF,R2AJM3LFTLZHFO,R6AQJGUP6P86,R1K...</td>\n",
       "      <td>Satisfied,Charging is really fast,Value for mo...</td>\n",
       "      <td>Looks durable Charging is fine tooNo complains...</td>\n",
       "      <td>https://m.media-amazon.com/images/W/WEBP_40237...</td>\n",
       "      <td>https://www.amazon.in/Wayona-Braided-WN3LG1-Sy...</td>\n",
       "    </tr>\n",
       "    <tr>\n",
       "      <th>1</th>\n",
       "      <td>B08TGG316Z</td>\n",
       "      <td>HANEUL 1000 Wattor2000 Watt Room Heater</td>\n",
       "      <td>Electronics</td>\n",
       "      <td>Cables</td>\n",
       "      <td>₹ 999.00</td>\n",
       "      <td>₹ 2,399.00</td>\n",
       "      <td>58%</td>\n",
       "      <td>4.6</td>\n",
       "      <td>3,664</td>\n",
       "      <td>Compatible with all Type C enabled devices, be...</td>\n",
       "      <td>AECPFYFQVRUWC3KGNLJIOREFP5LQ,AGYYVPDD7YG7FYNBX...</td>\n",
       "      <td>ArdKn,Nirbhay kumar,Sagar Viswanathan,Asp,Plac...</td>\n",
       "      <td>RGIQEG07R9HS2,R1SMWZQ86XIN8U,R2J3Y1WL29GWDE,RY...</td>\n",
       "      <td>A Good Braided Cable for Your Type C Device,Go...</td>\n",
       "      <td>I ordered this cable to connect my phone to An...</td>\n",
       "      <td>https://m.media-amazon.com/images/W/WEBP_40237...</td>\n",
       "      <td>https://www.amazon.in/Ambrane-Unbreakable-Char...</td>\n",
       "    </tr>\n",
       "    <tr>\n",
       "      <th>2</th>\n",
       "      <td>B09RFB2SJQ</td>\n",
       "      <td>10k 8k 4k HDM Cable</td>\n",
       "      <td>Electronics</td>\n",
       "      <td>SmartWatches</td>\n",
       "      <td>₹ 499.00</td>\n",
       "      <td>₹ 1,899.00</td>\n",
       "      <td>74%</td>\n",
       "      <td>4.1</td>\n",
       "      <td>412</td>\n",
       "      <td>ã€ Fast Charger&amp; Data Syncã€‘-With built-in s...</td>\n",
       "      <td>AGU3BBQ2V2DDAMOAKGFAWDDQ6QHA,AESFLDV2PT363T2AQ...</td>\n",
       "      <td>Kunal,Himanshu,viswanath,sai niharka,saqib mal...</td>\n",
       "      <td>R3J3EQQ9TZI5ZJ,R3E7WBGK7ID0KV,RWU79XKQ6I1QF,R2...</td>\n",
       "      <td>Good speed for earlier versions,Good Product,W...</td>\n",
       "      <td>Not quite durable and sturdy,https://m.media-a...</td>\n",
       "      <td>https://m.media-amazon.com/images/W/WEBP_40237...</td>\n",
       "      <td>https://www.amazon.in/Sounce-iPhone-Charging-C...</td>\n",
       "    </tr>\n",
       "    <tr>\n",
       "      <th>3</th>\n",
       "      <td>B00N1U7JXM</td>\n",
       "      <td>10WeRun Bluetooth Smartwatch Wreless Band</td>\n",
       "      <td>OfficeProducts</td>\n",
       "      <td>OfficePaperProducts</td>\n",
       "      <td>₹ 90.00</td>\n",
       "      <td>₹ 175.00</td>\n",
       "      <td>49%</td>\n",
       "      <td>4.4</td>\n",
       "      <td>7,429</td>\n",
       "      <td>The boAt Deuce USB 300 2 in 1 cable is compati...</td>\n",
       "      <td>AEWAZDZZJLQUYVOVGBEUKSLXHQ5A,AG5HTSFRRE6NL3M5S...</td>\n",
       "      <td>Omkar dhale,JD,HEMALATHA,Ajwadh a.,amar singh ...</td>\n",
       "      <td>R3EEUZKKK9J36I,R3HJVYCLYOY554,REDECAZ7AMPQC,R1...</td>\n",
       "      <td>Good product,Good one,Nice,Really nice product...</td>\n",
       "      <td>Good product,long wire,Charges good,Nice,I bou...</td>\n",
       "      <td>https://m.media-amazon.com/images/I/41V5FtEWPk...</td>\n",
       "      <td>https://www.amazon.in/Deuce-300-Resistant-Tang...</td>\n",
       "    </tr>\n",
       "    <tr>\n",
       "      <th>4</th>\n",
       "      <td>B00N1U9AJS</td>\n",
       "      <td>3M Post t Stcky Note Cube</td>\n",
       "      <td>Home&amp;Kitchen</td>\n",
       "      <td>Tape</td>\n",
       "      <td>₹ 130.00</td>\n",
       "      <td>₹ 165.00</td>\n",
       "      <td>21%</td>\n",
       "      <td>3.9</td>\n",
       "      <td>14,778</td>\n",
       "      <td>[CHARGE &amp; SYNC FUNCTION]- This cable comes wit...</td>\n",
       "      <td>AE3Q6KSUK5P75D5HFYHCRAOLODSA,AFUGIFH5ZAFXRDSZH...</td>\n",
       "      <td>rahuls6099,Swasat Borah,Ajay Wadke,Pranali,RVK...</td>\n",
       "      <td>R1BP4L2HH9TFUP,R16PVJEXKV6QZS,R2UPDB81N66T4P,R...</td>\n",
       "      <td>As good as original,Decent,Good one for second...</td>\n",
       "      <td>Bought this instead of original apple, does th...</td>\n",
       "      <td>https://m.media-amazon.com/images/W/WEBP_40237...</td>\n",
       "      <td>https://www.amazon.in/Portronics-Konnect-POR-1...</td>\n",
       "    </tr>\n",
       "  </tbody>\n",
       "</table>\n",
       "</div>"
      ],
      "text/plain": [
       "   product_id                               product_name        category  \\\n",
       "0  B0BMTZ4T1D         1000 Watt or 2000 Watt Room Heater    Home&Kitchen   \n",
       "1  B08TGG316Z    HANEUL 1000 Wattor2000 Watt Room Heater     Electronics   \n",
       "2  B09RFB2SJQ                        10k 8k 4k HDM Cable     Electronics   \n",
       "3  B00N1U7JXM  10WeRun Bluetooth Smartwatch Wreless Band  OfficeProducts   \n",
       "4  B00N1U9AJS                  3M Post t Stcky Note Cube    Home&Kitchen   \n",
       "\n",
       "          sub_category discounted_price  actual_price discount_percentage  \\\n",
       "0           FanHeaters        ₹ 784.00    ₹ 1,599.00                  51%   \n",
       "1               Cables        ₹ 999.00    ₹ 2,399.00                  58%   \n",
       "2         SmartWatches        ₹ 499.00    ₹ 1,899.00                  74%   \n",
       "3  OfficePaperProducts         ₹ 90.00      ₹ 175.00                  49%   \n",
       "4                 Tape        ₹ 130.00      ₹ 165.00                  21%   \n",
       "\n",
       "  rating rating_count                                      about_product  \\\n",
       "0    4.5           11  High Compatibility : Compatible With iPhone 12...   \n",
       "1    4.6        3,664  Compatible with all Type C enabled devices, be...   \n",
       "2    4.1          412  ã€ Fast Charger& Data Syncã€‘-With built-in s...   \n",
       "3    4.4        7,429  The boAt Deuce USB 300 2 in 1 cable is compati...   \n",
       "4    3.9       14,778  [CHARGE & SYNC FUNCTION]- This cable comes wit...   \n",
       "\n",
       "                                             user_id  \\\n",
       "0  AG3D6O4STAQKAY2UVGEUV46KN35Q,AHMY5CWJMMK5BJRBB...   \n",
       "1  AECPFYFQVRUWC3KGNLJIOREFP5LQ,AGYYVPDD7YG7FYNBX...   \n",
       "2  AGU3BBQ2V2DDAMOAKGFAWDDQ6QHA,AESFLDV2PT363T2AQ...   \n",
       "3  AEWAZDZZJLQUYVOVGBEUKSLXHQ5A,AG5HTSFRRE6NL3M5S...   \n",
       "4  AE3Q6KSUK5P75D5HFYHCRAOLODSA,AFUGIFH5ZAFXRDSZH...   \n",
       "\n",
       "                                           user_name  \\\n",
       "0  Manav,Adarsh gupta,Sundeep,S.Sayeed Ahmed,jasp...   \n",
       "1  ArdKn,Nirbhay kumar,Sagar Viswanathan,Asp,Plac...   \n",
       "2  Kunal,Himanshu,viswanath,sai niharka,saqib mal...   \n",
       "3  Omkar dhale,JD,HEMALATHA,Ajwadh a.,amar singh ...   \n",
       "4  rahuls6099,Swasat Borah,Ajay Wadke,Pranali,RVK...   \n",
       "\n",
       "                                           review_id  \\\n",
       "0  R3HXWT0LRP0NMF,R2AJM3LFTLZHFO,R6AQJGUP6P86,R1K...   \n",
       "1  RGIQEG07R9HS2,R1SMWZQ86XIN8U,R2J3Y1WL29GWDE,RY...   \n",
       "2  R3J3EQQ9TZI5ZJ,R3E7WBGK7ID0KV,RWU79XKQ6I1QF,R2...   \n",
       "3  R3EEUZKKK9J36I,R3HJVYCLYOY554,REDECAZ7AMPQC,R1...   \n",
       "4  R1BP4L2HH9TFUP,R16PVJEXKV6QZS,R2UPDB81N66T4P,R...   \n",
       "\n",
       "                                        review_title  \\\n",
       "0  Satisfied,Charging is really fast,Value for mo...   \n",
       "1  A Good Braided Cable for Your Type C Device,Go...   \n",
       "2  Good speed for earlier versions,Good Product,W...   \n",
       "3  Good product,Good one,Nice,Really nice product...   \n",
       "4  As good as original,Decent,Good one for second...   \n",
       "\n",
       "                                      review_content  \\\n",
       "0  Looks durable Charging is fine tooNo complains...   \n",
       "1  I ordered this cable to connect my phone to An...   \n",
       "2  Not quite durable and sturdy,https://m.media-a...   \n",
       "3  Good product,long wire,Charges good,Nice,I bou...   \n",
       "4  Bought this instead of original apple, does th...   \n",
       "\n",
       "                                            img_link  \\\n",
       "0  https://m.media-amazon.com/images/W/WEBP_40237...   \n",
       "1  https://m.media-amazon.com/images/W/WEBP_40237...   \n",
       "2  https://m.media-amazon.com/images/W/WEBP_40237...   \n",
       "3  https://m.media-amazon.com/images/I/41V5FtEWPk...   \n",
       "4  https://m.media-amazon.com/images/W/WEBP_40237...   \n",
       "\n",
       "                                        product_link  \n",
       "0  https://www.amazon.in/Wayona-Braided-WN3LG1-Sy...  \n",
       "1  https://www.amazon.in/Ambrane-Unbreakable-Char...  \n",
       "2  https://www.amazon.in/Sounce-iPhone-Charging-C...  \n",
       "3  https://www.amazon.in/Deuce-300-Resistant-Tang...  \n",
       "4  https://www.amazon.in/Portronics-Konnect-POR-1...  "
      ]
     },
     "execution_count": 8,
     "metadata": {},
     "output_type": "execute_result"
    }
   ],
   "source": [
    "# Let's have a look on top 5 rows of the data\n",
    "df.head(5)"
   ]
  },
  {
   "cell_type": "markdown",
   "metadata": {},
   "source": [
    "### **Let's see the column names**"
   ]
  },
  {
   "cell_type": "code",
   "execution_count": 9,
   "metadata": {
    "execution": {
     "iopub.execute_input": "2024-08-15T05:18:52.371091Z",
     "iopub.status.busy": "2024-08-15T05:18:52.370627Z",
     "iopub.status.idle": "2024-08-15T05:18:52.381578Z",
     "shell.execute_reply": "2024-08-15T05:18:52.380255Z",
     "shell.execute_reply.started": "2024-08-15T05:18:52.371052Z"
    }
   },
   "outputs": [
    {
     "data": {
      "text/plain": [
       "Index(['product_id', 'product_name', 'category', 'sub_category',\n",
       "       'discounted_price', 'actual_price', 'discount_percentage', 'rating',\n",
       "       'rating_count', 'about_product', 'user_id', 'user_name', 'review_id',\n",
       "       'review_title', 'review_content', 'img_link', 'product_link'],\n",
       "      dtype='object')"
      ]
     },
     "execution_count": 9,
     "metadata": {},
     "output_type": "execute_result"
    }
   ],
   "source": [
    "df.columns"
   ]
  },
  {
   "cell_type": "markdown",
   "metadata": {},
   "source": [
    "### **Let's have a look on the shape,columns and their data types using detailed info function**"
   ]
  },
  {
   "cell_type": "code",
   "execution_count": 10,
   "metadata": {
    "execution": {
     "iopub.execute_input": "2024-08-15T05:18:52.383590Z",
     "iopub.status.busy": "2024-08-15T05:18:52.383168Z",
     "iopub.status.idle": "2024-08-15T05:18:52.394385Z",
     "shell.execute_reply": "2024-08-15T05:18:52.393200Z",
     "shell.execute_reply.started": "2024-08-15T05:18:52.383550Z"
    }
   },
   "outputs": [
    {
     "name": "stdout",
     "output_type": "stream",
     "text": [
      "The Number of Rows are 1465, and columns are 17.\n"
     ]
    }
   ],
   "source": [
    "print(f\"The Number of Rows are {df.shape[0]}, and columns are {df.shape[1]}.\")"
   ]
  },
  {
   "cell_type": "code",
   "execution_count": 11,
   "metadata": {
    "execution": {
     "iopub.execute_input": "2024-08-15T05:18:52.399320Z",
     "iopub.status.busy": "2024-08-15T05:18:52.398938Z",
     "iopub.status.idle": "2024-08-15T05:18:52.427510Z",
     "shell.execute_reply": "2024-08-15T05:18:52.426345Z",
     "shell.execute_reply.started": "2024-08-15T05:18:52.399291Z"
    }
   },
   "outputs": [
    {
     "name": "stdout",
     "output_type": "stream",
     "text": [
      "<class 'pandas.core.frame.DataFrame'>\n",
      "RangeIndex: 1465 entries, 0 to 1464\n",
      "Data columns (total 17 columns):\n",
      " #   Column               Non-Null Count  Dtype \n",
      "---  ------               --------------  ----- \n",
      " 0   product_id           1465 non-null   object\n",
      " 1   product_name         1465 non-null   object\n",
      " 2   category             1465 non-null   object\n",
      " 3   sub_category         1465 non-null   object\n",
      " 4   discounted_price     1465 non-null   object\n",
      " 5   actual_price         1465 non-null   object\n",
      " 6   discount_percentage  1465 non-null   object\n",
      " 7   rating               1465 non-null   object\n",
      " 8   rating_count         1463 non-null   object\n",
      " 9   about_product        1465 non-null   object\n",
      " 10  user_id              1465 non-null   object\n",
      " 11  user_name            1465 non-null   object\n",
      " 12  review_id            1465 non-null   object\n",
      " 13  review_title         1465 non-null   object\n",
      " 14  review_content       1465 non-null   object\n",
      " 15  img_link             1465 non-null   object\n",
      " 16  product_link         1465 non-null   object\n",
      "dtypes: object(17)\n",
      "memory usage: 194.7+ KB\n"
     ]
    }
   ],
   "source": [
    "df.info()"
   ]
  },
  {
   "cell_type": "code",
   "execution_count": 12,
   "metadata": {
    "execution": {
     "iopub.execute_input": "2024-08-15T05:18:52.429287Z",
     "iopub.status.busy": "2024-08-15T05:18:52.428940Z",
     "iopub.status.idle": "2024-08-15T05:18:52.445543Z",
     "shell.execute_reply": "2024-08-15T05:18:52.444390Z",
     "shell.execute_reply.started": "2024-08-15T05:18:52.429258Z"
    }
   },
   "outputs": [
    {
     "data": {
      "text/plain": [
       "product_id             0\n",
       "product_name           0\n",
       "category               0\n",
       "sub_category           0\n",
       "discounted_price       0\n",
       "actual_price           0\n",
       "discount_percentage    0\n",
       "rating                 0\n",
       "rating_count           2\n",
       "about_product          0\n",
       "user_id                0\n",
       "user_name              0\n",
       "review_id              0\n",
       "review_title           0\n",
       "review_content         0\n",
       "img_link               0\n",
       "product_link           0\n",
       "dtype: int64"
      ]
     },
     "execution_count": 12,
     "metadata": {},
     "output_type": "execute_result"
    }
   ],
   "source": [
    "df.isnull().sum()"
   ]
  },
  {
   "cell_type": "markdown",
   "metadata": {},
   "source": [
    "## ***Observation Set 1***\n",
    "\n",
    "\n",
    "***There are 1465 rows and 16 columns in the dataset.***\n",
    "\n",
    "***The data type of all columns is object.***\n",
    "\n",
    "***The columns in the datasets are:'product_id', 'product_name', 'category','sub_category', 'discounted_price', 'actual_price', 'discount_percentage', 'rating', 'rating_count', 'about_product', 'user_id', 'user_name', 'review_id', 'review_title', 'review_content', 'img_link', 'product_link'***\n",
    "\n",
    "***There are a few missing values in the dataset, which we will read in detail and deal with later on in the notebook.***\n",
    "\n",
    "***After the observation we can conclude that some of the columns are not so useful to analysis.Thus, it's better to drop some of the columns for the further analysis.***"
   ]
  },
  {
   "cell_type": "markdown",
   "metadata": {},
   "source": [
    "### **drop out some columns which are not required for analysis**\n",
    "**about_product,user_id,user_name,review_id,review_title,review_content,img_link,product_link**"
   ]
  },
  {
   "cell_type": "code",
   "execution_count": 13,
   "metadata": {
    "execution": {
     "iopub.execute_input": "2024-08-15T05:18:52.447271Z",
     "iopub.status.busy": "2024-08-15T05:18:52.446917Z",
     "iopub.status.idle": "2024-08-15T05:18:52.461198Z",
     "shell.execute_reply": "2024-08-15T05:18:52.459991Z",
     "shell.execute_reply.started": "2024-08-15T05:18:52.447244Z"
    }
   },
   "outputs": [],
   "source": [
    "df.drop(['about_product','user_id','user_name','review_id','review_title','review_content',\n",
    "         'img_link','product_link'],axis=1,inplace=True)"
   ]
  },
  {
   "cell_type": "markdown",
   "metadata": {},
   "source": [
    "## **Changing Data Types of Columns from object to float**"
   ]
  },
  {
   "cell_type": "code",
   "execution_count": 14,
   "metadata": {
    "execution": {
     "iopub.execute_input": "2024-08-15T05:18:52.463475Z",
     "iopub.status.busy": "2024-08-15T05:18:52.462995Z",
     "iopub.status.idle": "2024-08-15T05:18:52.476363Z",
     "shell.execute_reply": "2024-08-15T05:18:52.475294Z",
     "shell.execute_reply.started": "2024-08-15T05:18:52.463435Z"
    }
   },
   "outputs": [
    {
     "data": {
      "text/plain": [
       "0        ₹ 784.00 \n",
       "1        ₹ 999.00 \n",
       "2        ₹ 499.00 \n",
       "3         ₹ 90.00 \n",
       "4        ₹ 130.00 \n",
       "           ...    \n",
       "1460     ₹ 389.00 \n",
       "1461     ₹ 399.00 \n",
       "1462     ₹ 339.00 \n",
       "1463     ₹ 419.00 \n",
       "1464     ₹ 499.00 \n",
       "Name: discounted_price, Length: 1465, dtype: object"
      ]
     },
     "execution_count": 14,
     "metadata": {},
     "output_type": "execute_result"
    }
   ],
   "source": [
    "# Changing the data type of discounted price\n",
    "\n",
    "df['discounted_price']"
   ]
  },
  {
   "cell_type": "code",
   "execution_count": 15,
   "metadata": {
    "execution": {
     "iopub.execute_input": "2024-08-15T05:18:52.478137Z",
     "iopub.status.busy": "2024-08-15T05:18:52.477788Z",
     "iopub.status.idle": "2024-08-15T05:18:52.491120Z",
     "shell.execute_reply": "2024-08-15T05:18:52.489902Z",
     "shell.execute_reply.started": "2024-08-15T05:18:52.478109Z"
    }
   },
   "outputs": [],
   "source": [
    "df['discounted_price'] = df['discounted_price'].str.replace(\"₹\",'')\n",
    "df['discounted_price'] = df['discounted_price'].str.replace(\",\",'')\n",
    "df['discounted_price'] = df['discounted_price'].astype('float64')"
   ]
  },
  {
   "cell_type": "code",
   "execution_count": 16,
   "metadata": {
    "execution": {
     "iopub.execute_input": "2024-08-15T05:18:52.493579Z",
     "iopub.status.busy": "2024-08-15T05:18:52.492641Z",
     "iopub.status.idle": "2024-08-15T05:18:52.508061Z",
     "shell.execute_reply": "2024-08-15T05:18:52.506934Z",
     "shell.execute_reply.started": "2024-08-15T05:18:52.493539Z"
    }
   },
   "outputs": [
    {
     "data": {
      "text/plain": [
       "0       784.0\n",
       "1       999.0\n",
       "2       499.0\n",
       "3        90.0\n",
       "4       130.0\n",
       "        ...  \n",
       "1460    389.0\n",
       "1461    399.0\n",
       "1462    339.0\n",
       "1463    419.0\n",
       "1464    499.0\n",
       "Name: discounted_price, Length: 1465, dtype: float64"
      ]
     },
     "execution_count": 16,
     "metadata": {},
     "output_type": "execute_result"
    }
   ],
   "source": [
    "df['discounted_price']"
   ]
  },
  {
   "cell_type": "code",
   "execution_count": 17,
   "metadata": {
    "execution": {
     "iopub.execute_input": "2024-08-15T05:18:52.510206Z",
     "iopub.status.busy": "2024-08-15T05:18:52.509778Z",
     "iopub.status.idle": "2024-08-15T05:18:52.525100Z",
     "shell.execute_reply": "2024-08-15T05:18:52.523781Z",
     "shell.execute_reply.started": "2024-08-15T05:18:52.510168Z"
    }
   },
   "outputs": [
    {
     "data": {
      "text/plain": [
       "0        ₹ 1,599.00 \n",
       "1        ₹ 2,399.00 \n",
       "2        ₹ 1,899.00 \n",
       "3          ₹ 175.00 \n",
       "4          ₹ 165.00 \n",
       "            ...     \n",
       "1460     ₹ 1,099.00 \n",
       "1461     ₹ 1,099.00 \n",
       "1462     ₹ 1,099.00 \n",
       "1463       ₹ 999.00 \n",
       "1464     ₹ 1,299.00 \n",
       "Name: actual_price, Length: 1465, dtype: object"
      ]
     },
     "execution_count": 17,
     "metadata": {},
     "output_type": "execute_result"
    }
   ],
   "source": [
    "# Changing the data type of actual price\n",
    "df['actual_price']"
   ]
  },
  {
   "cell_type": "code",
   "execution_count": 18,
   "metadata": {
    "execution": {
     "iopub.execute_input": "2024-08-15T05:18:52.526950Z",
     "iopub.status.busy": "2024-08-15T05:18:52.526548Z",
     "iopub.status.idle": "2024-08-15T05:18:52.540877Z",
     "shell.execute_reply": "2024-08-15T05:18:52.539654Z",
     "shell.execute_reply.started": "2024-08-15T05:18:52.526919Z"
    }
   },
   "outputs": [],
   "source": [
    "df['actual_price'] = df['actual_price'].str.replace(\"₹\",'')\n",
    "df['actual_price'] = df['actual_price'].str.replace(\",\",'')\n",
    "df['actual_price'] = df['actual_price'].astype('float64')"
   ]
  },
  {
   "cell_type": "code",
   "execution_count": 19,
   "metadata": {
    "execution": {
     "iopub.execute_input": "2024-08-15T05:18:52.542770Z",
     "iopub.status.busy": "2024-08-15T05:18:52.542386Z",
     "iopub.status.idle": "2024-08-15T05:18:52.555608Z",
     "shell.execute_reply": "2024-08-15T05:18:52.554556Z",
     "shell.execute_reply.started": "2024-08-15T05:18:52.542733Z"
    }
   },
   "outputs": [
    {
     "data": {
      "text/plain": [
       "0       1599.0\n",
       "1       2399.0\n",
       "2       1899.0\n",
       "3        175.0\n",
       "4        165.0\n",
       "         ...  \n",
       "1460    1099.0\n",
       "1461    1099.0\n",
       "1462    1099.0\n",
       "1463     999.0\n",
       "1464    1299.0\n",
       "Name: actual_price, Length: 1465, dtype: float64"
      ]
     },
     "execution_count": 19,
     "metadata": {},
     "output_type": "execute_result"
    }
   ],
   "source": [
    "df['actual_price']"
   ]
  },
  {
   "cell_type": "code",
   "execution_count": 20,
   "metadata": {
    "execution": {
     "iopub.execute_input": "2024-08-15T05:18:52.557227Z",
     "iopub.status.busy": "2024-08-15T05:18:52.556897Z",
     "iopub.status.idle": "2024-08-15T05:18:52.570224Z",
     "shell.execute_reply": "2024-08-15T05:18:52.569001Z",
     "shell.execute_reply.started": "2024-08-15T05:18:52.557199Z"
    }
   },
   "outputs": [
    {
     "data": {
      "text/plain": [
       "0       51%\n",
       "1       58%\n",
       "2       74%\n",
       "3       49%\n",
       "4       21%\n",
       "       ... \n",
       "1460    65%\n",
       "1461    64%\n",
       "1462    69%\n",
       "1463    58%\n",
       "1464    62%\n",
       "Name: discount_percentage, Length: 1465, dtype: object"
      ]
     },
     "execution_count": 20,
     "metadata": {},
     "output_type": "execute_result"
    }
   ],
   "source": [
    "# Changing Datatype and values in Discount Percentage\n",
    "\n",
    "df['discount_percentage']"
   ]
  },
  {
   "cell_type": "code",
   "execution_count": 21,
   "metadata": {
    "execution": {
     "iopub.execute_input": "2024-08-15T05:18:52.571979Z",
     "iopub.status.busy": "2024-08-15T05:18:52.571616Z",
     "iopub.status.idle": "2024-08-15T05:18:52.583427Z",
     "shell.execute_reply": "2024-08-15T05:18:52.582182Z",
     "shell.execute_reply.started": "2024-08-15T05:18:52.571949Z"
    }
   },
   "outputs": [],
   "source": [
    "df['discount_percentage'] = df['discount_percentage'].str.replace('%','').astype('float64')\n",
    "\n",
    "df['discount_percentage'] = df['discount_percentage'] / 100"
   ]
  },
  {
   "cell_type": "code",
   "execution_count": 22,
   "metadata": {
    "execution": {
     "iopub.execute_input": "2024-08-15T05:18:52.585522Z",
     "iopub.status.busy": "2024-08-15T05:18:52.584842Z",
     "iopub.status.idle": "2024-08-15T05:18:52.597764Z",
     "shell.execute_reply": "2024-08-15T05:18:52.596624Z",
     "shell.execute_reply.started": "2024-08-15T05:18:52.585481Z"
    }
   },
   "outputs": [
    {
     "data": {
      "text/plain": [
       "0       0.51\n",
       "1       0.58\n",
       "2       0.74\n",
       "3       0.49\n",
       "4       0.21\n",
       "        ... \n",
       "1460    0.65\n",
       "1461    0.64\n",
       "1462    0.69\n",
       "1463    0.58\n",
       "1464    0.62\n",
       "Name: discount_percentage, Length: 1465, dtype: float64"
      ]
     },
     "execution_count": 22,
     "metadata": {},
     "output_type": "execute_result"
    }
   ],
   "source": [
    "df['discount_percentage']"
   ]
  },
  {
   "cell_type": "code",
   "execution_count": 23,
   "metadata": {
    "execution": {
     "iopub.execute_input": "2024-08-15T05:18:52.599400Z",
     "iopub.status.busy": "2024-08-15T05:18:52.599029Z",
     "iopub.status.idle": "2024-08-15T05:18:52.614261Z",
     "shell.execute_reply": "2024-08-15T05:18:52.613134Z",
     "shell.execute_reply.started": "2024-08-15T05:18:52.599371Z"
    }
   },
   "outputs": [
    {
     "data": {
      "text/plain": [
       "rating\n",
       "4.1    244\n",
       "4.3    230\n",
       "4.2    228\n",
       "4      181\n",
       "4.4    123\n",
       "3.9    123\n",
       "3.8     86\n",
       "4.5     75\n",
       "3.7     42\n",
       "3.6     35\n",
       "3.5     26\n",
       "4.6     17\n",
       "3.3     16\n",
       "3.4     10\n",
       "4.7      6\n",
       "3        4\n",
       "3.1      4\n",
       "5        3\n",
       "4.8      3\n",
       "3.2      2\n",
       "2.8      2\n",
       "|        1\n",
       "2.6      1\n",
       "2.9      1\n",
       "2        1\n",
       "2.3      1\n",
       "Name: count, dtype: int64"
      ]
     },
     "execution_count": 23,
     "metadata": {},
     "output_type": "execute_result"
    }
   ],
   "source": [
    "# Finding unusual string in rating column\n",
    "df['rating'].value_counts()\n"
   ]
  },
  {
   "cell_type": "code",
   "execution_count": 24,
   "metadata": {
    "execution": {
     "iopub.execute_input": "2024-08-15T05:18:52.616247Z",
     "iopub.status.busy": "2024-08-15T05:18:52.615802Z",
     "iopub.status.idle": "2024-08-15T05:18:52.641342Z",
     "shell.execute_reply": "2024-08-15T05:18:52.640149Z",
     "shell.execute_reply.started": "2024-08-15T05:18:52.616199Z"
    }
   },
   "outputs": [
    {
     "data": {
      "text/html": [
       "<div>\n",
       "<style scoped>\n",
       "    .dataframe tbody tr th:only-of-type {\n",
       "        vertical-align: middle;\n",
       "    }\n",
       "\n",
       "    .dataframe tbody tr th {\n",
       "        vertical-align: top;\n",
       "    }\n",
       "\n",
       "    .dataframe thead th {\n",
       "        text-align: right;\n",
       "    }\n",
       "</style>\n",
       "<table border=\"1\" class=\"dataframe\">\n",
       "  <thead>\n",
       "    <tr style=\"text-align: right;\">\n",
       "      <th></th>\n",
       "      <th>product_id</th>\n",
       "      <th>product_name</th>\n",
       "      <th>category</th>\n",
       "      <th>sub_category</th>\n",
       "      <th>discounted_price</th>\n",
       "      <th>actual_price</th>\n",
       "      <th>discount_percentage</th>\n",
       "      <th>rating</th>\n",
       "      <th>rating_count</th>\n",
       "    </tr>\n",
       "  </thead>\n",
       "  <tbody>\n",
       "    <tr>\n",
       "      <th>458</th>\n",
       "      <td>B08L12N5H1</td>\n",
       "      <td>Eureka Forbes Aquasure Amrt Twn Cartrdge (Pack...</td>\n",
       "      <td>Home&amp;Kitchen</td>\n",
       "      <td>Vacuums&amp;FloorCare</td>\n",
       "      <td>2099.0</td>\n",
       "      <td>2499.0</td>\n",
       "      <td>0.16</td>\n",
       "      <td>|</td>\n",
       "      <td>992</td>\n",
       "    </tr>\n",
       "  </tbody>\n",
       "</table>\n",
       "</div>"
      ],
      "text/plain": [
       "     product_id                                       product_name  \\\n",
       "458  B08L12N5H1  Eureka Forbes Aquasure Amrt Twn Cartrdge (Pack...   \n",
       "\n",
       "         category       sub_category  discounted_price  actual_price  \\\n",
       "458  Home&Kitchen  Vacuums&FloorCare            2099.0        2499.0   \n",
       "\n",
       "     discount_percentage rating rating_count  \n",
       "458                 0.16      |          992  "
      ]
     },
     "execution_count": 24,
     "metadata": {},
     "output_type": "execute_result"
    }
   ],
   "source": [
    "# Check the strange row\n",
    "df.query('rating == \"|\"')"
   ]
  },
  {
   "cell_type": "markdown",
   "metadata": {},
   "source": [
    "***The rating is 3.9. So, I am going to give the item rating a 3.9 as well.***"
   ]
  },
  {
   "cell_type": "code",
   "execution_count": 25,
   "metadata": {
    "execution": {
     "iopub.execute_input": "2024-08-15T05:18:52.642968Z",
     "iopub.status.busy": "2024-08-15T05:18:52.642616Z",
     "iopub.status.idle": "2024-08-15T05:18:52.654357Z",
     "shell.execute_reply": "2024-08-15T05:18:52.653260Z",
     "shell.execute_reply.started": "2024-08-15T05:18:52.642939Z"
    }
   },
   "outputs": [],
   "source": [
    "# Changing Rating Columns Data Type\n",
    "\n",
    "df['rating'] = df['rating'].str.replace('|', '3.9').astype('float64')"
   ]
  },
  {
   "cell_type": "code",
   "execution_count": 26,
   "metadata": {
    "execution": {
     "iopub.execute_input": "2024-08-15T05:18:52.655954Z",
     "iopub.status.busy": "2024-08-15T05:18:52.655570Z",
     "iopub.status.idle": "2024-08-15T05:18:52.669345Z",
     "shell.execute_reply": "2024-08-15T05:18:52.668144Z",
     "shell.execute_reply.started": "2024-08-15T05:18:52.655926Z"
    }
   },
   "outputs": [],
   "source": [
    "# Changing 'rating_count' Column Data Type\n",
    "\n",
    "df['rating_count'] = df['rating_count'].str.replace(',', '').astype('float64')"
   ]
  },
  {
   "cell_type": "code",
   "execution_count": 27,
   "metadata": {
    "execution": {
     "iopub.execute_input": "2024-08-15T05:18:52.670984Z",
     "iopub.status.busy": "2024-08-15T05:18:52.670613Z",
     "iopub.status.idle": "2024-08-15T05:18:52.690192Z",
     "shell.execute_reply": "2024-08-15T05:18:52.689049Z",
     "shell.execute_reply.started": "2024-08-15T05:18:52.670942Z"
    }
   },
   "outputs": [
    {
     "name": "stdout",
     "output_type": "stream",
     "text": [
      "<class 'pandas.core.frame.DataFrame'>\n",
      "RangeIndex: 1465 entries, 0 to 1464\n",
      "Data columns (total 9 columns):\n",
      " #   Column               Non-Null Count  Dtype  \n",
      "---  ------               --------------  -----  \n",
      " 0   product_id           1465 non-null   object \n",
      " 1   product_name         1465 non-null   object \n",
      " 2   category             1465 non-null   object \n",
      " 3   sub_category         1465 non-null   object \n",
      " 4   discounted_price     1465 non-null   float64\n",
      " 5   actual_price         1465 non-null   float64\n",
      " 6   discount_percentage  1465 non-null   float64\n",
      " 7   rating               1465 non-null   float64\n",
      " 8   rating_count         1463 non-null   float64\n",
      "dtypes: float64(5), object(4)\n",
      "memory usage: 103.1+ KB\n"
     ]
    }
   ],
   "source": [
    "df.info()"
   ]
  },
  {
   "cell_type": "markdown",
   "metadata": {},
   "source": [
    "# **Descriptive Statistics**\n",
    "***Descriptive statistics are a collection of quantitative measures that summarize and describe the main characteristics of a dataset.***"
   ]
  },
  {
   "cell_type": "code",
   "execution_count": 28,
   "metadata": {
    "execution": {
     "iopub.execute_input": "2024-08-15T05:18:52.692110Z",
     "iopub.status.busy": "2024-08-15T05:18:52.691695Z",
     "iopub.status.idle": "2024-08-15T05:18:52.725808Z",
     "shell.execute_reply": "2024-08-15T05:18:52.724690Z",
     "shell.execute_reply.started": "2024-08-15T05:18:52.692079Z"
    }
   },
   "outputs": [
    {
     "data": {
      "text/html": [
       "<div>\n",
       "<style scoped>\n",
       "    .dataframe tbody tr th:only-of-type {\n",
       "        vertical-align: middle;\n",
       "    }\n",
       "\n",
       "    .dataframe tbody tr th {\n",
       "        vertical-align: top;\n",
       "    }\n",
       "\n",
       "    .dataframe thead th {\n",
       "        text-align: right;\n",
       "    }\n",
       "</style>\n",
       "<table border=\"1\" class=\"dataframe\">\n",
       "  <thead>\n",
       "    <tr style=\"text-align: right;\">\n",
       "      <th></th>\n",
       "      <th>discounted_price</th>\n",
       "      <th>actual_price</th>\n",
       "      <th>discount_percentage</th>\n",
       "      <th>rating</th>\n",
       "      <th>rating_count</th>\n",
       "    </tr>\n",
       "  </thead>\n",
       "  <tbody>\n",
       "    <tr>\n",
       "      <th>count</th>\n",
       "      <td>1465.000000</td>\n",
       "      <td>1465.000000</td>\n",
       "      <td>1465.000000</td>\n",
       "      <td>1465.000000</td>\n",
       "      <td>1463.000000</td>\n",
       "    </tr>\n",
       "    <tr>\n",
       "      <th>mean</th>\n",
       "      <td>3125.310874</td>\n",
       "      <td>5444.990635</td>\n",
       "      <td>0.476915</td>\n",
       "      <td>4.096451</td>\n",
       "      <td>18295.541353</td>\n",
       "    </tr>\n",
       "    <tr>\n",
       "      <th>std</th>\n",
       "      <td>6944.304394</td>\n",
       "      <td>10874.826864</td>\n",
       "      <td>0.216359</td>\n",
       "      <td>0.291620</td>\n",
       "      <td>42753.864952</td>\n",
       "    </tr>\n",
       "    <tr>\n",
       "      <th>min</th>\n",
       "      <td>39.000000</td>\n",
       "      <td>39.000000</td>\n",
       "      <td>0.000000</td>\n",
       "      <td>2.000000</td>\n",
       "      <td>2.000000</td>\n",
       "    </tr>\n",
       "    <tr>\n",
       "      <th>25%</th>\n",
       "      <td>325.000000</td>\n",
       "      <td>800.000000</td>\n",
       "      <td>0.320000</td>\n",
       "      <td>4.000000</td>\n",
       "      <td>1186.000000</td>\n",
       "    </tr>\n",
       "    <tr>\n",
       "      <th>50%</th>\n",
       "      <td>799.000000</td>\n",
       "      <td>1650.000000</td>\n",
       "      <td>0.500000</td>\n",
       "      <td>4.100000</td>\n",
       "      <td>5179.000000</td>\n",
       "    </tr>\n",
       "    <tr>\n",
       "      <th>75%</th>\n",
       "      <td>1999.000000</td>\n",
       "      <td>4295.000000</td>\n",
       "      <td>0.630000</td>\n",
       "      <td>4.300000</td>\n",
       "      <td>17336.500000</td>\n",
       "    </tr>\n",
       "    <tr>\n",
       "      <th>max</th>\n",
       "      <td>77990.000000</td>\n",
       "      <td>139900.000000</td>\n",
       "      <td>0.940000</td>\n",
       "      <td>5.000000</td>\n",
       "      <td>426973.000000</td>\n",
       "    </tr>\n",
       "  </tbody>\n",
       "</table>\n",
       "</div>"
      ],
      "text/plain": [
       "       discounted_price   actual_price  discount_percentage       rating  \\\n",
       "count       1465.000000    1465.000000          1465.000000  1465.000000   \n",
       "mean        3125.310874    5444.990635             0.476915     4.096451   \n",
       "std         6944.304394   10874.826864             0.216359     0.291620   \n",
       "min           39.000000      39.000000             0.000000     2.000000   \n",
       "25%          325.000000     800.000000             0.320000     4.000000   \n",
       "50%          799.000000    1650.000000             0.500000     4.100000   \n",
       "75%         1999.000000    4295.000000             0.630000     4.300000   \n",
       "max        77990.000000  139900.000000             0.940000     5.000000   \n",
       "\n",
       "        rating_count  \n",
       "count    1463.000000  \n",
       "mean    18295.541353  \n",
       "std     42753.864952  \n",
       "min         2.000000  \n",
       "25%      1186.000000  \n",
       "50%      5179.000000  \n",
       "75%     17336.500000  \n",
       "max    426973.000000  "
      ]
     },
     "execution_count": 28,
     "metadata": {},
     "output_type": "execute_result"
    }
   ],
   "source": [
    "df.describe()"
   ]
  },
  {
   "cell_type": "markdown",
   "metadata": {},
   "source": [
    "## **Observation Set 2**\n",
    "\n",
    "***All columns data type was object So, I converted some column data type to float.***\n",
    "\n",
    "***There are 4 numeric as per Python coding or descriptive statistics from Python describe function.***"
   ]
  },
  {
   "cell_type": "markdown",
   "metadata": {},
   "source": [
    "## ***Dealing with the missing values***\n",
    "\n",
    "***Dealing with the missing values is one of the most important part of the data wrangling process, we must deal with the missing values in order to get the correct insights from the data.***"
   ]
  },
  {
   "cell_type": "markdown",
   "metadata": {},
   "source": [
    "## ***Missing Values***"
   ]
  },
  {
   "cell_type": "code",
   "execution_count": 29,
   "metadata": {
    "execution": {
     "iopub.execute_input": "2024-08-15T05:18:52.732471Z",
     "iopub.status.busy": "2024-08-15T05:18:52.732104Z",
     "iopub.status.idle": "2024-08-15T05:18:52.743000Z",
     "shell.execute_reply": "2024-08-15T05:18:52.741976Z",
     "shell.execute_reply.started": "2024-08-15T05:18:52.732438Z"
    }
   },
   "outputs": [
    {
     "data": {
      "text/plain": [
       "rating_count           2\n",
       "product_id             0\n",
       "product_name           0\n",
       "category               0\n",
       "sub_category           0\n",
       "discounted_price       0\n",
       "actual_price           0\n",
       "discount_percentage    0\n",
       "rating                 0\n",
       "dtype: int64"
      ]
     },
     "execution_count": 29,
     "metadata": {},
     "output_type": "execute_result"
    }
   ],
   "source": [
    "df.isnull().sum().sort_values(ascending = False)"
   ]
  },
  {
   "cell_type": "code",
   "execution_count": 30,
   "metadata": {
    "execution": {
     "iopub.execute_input": "2024-08-15T05:18:52.744636Z",
     "iopub.status.busy": "2024-08-15T05:18:52.744300Z",
     "iopub.status.idle": "2024-08-15T05:18:52.759615Z",
     "shell.execute_reply": "2024-08-15T05:18:52.758436Z",
     "shell.execute_reply.started": "2024-08-15T05:18:52.744595Z"
    }
   },
   "outputs": [
    {
     "data": {
      "text/plain": [
       "rating_count           0.14\n",
       "product_id             0.00\n",
       "product_name           0.00\n",
       "category               0.00\n",
       "sub_category           0.00\n",
       "discounted_price       0.00\n",
       "actual_price           0.00\n",
       "discount_percentage    0.00\n",
       "rating                 0.00\n",
       "dtype: float64"
      ]
     },
     "execution_count": 30,
     "metadata": {},
     "output_type": "execute_result"
    }
   ],
   "source": [
    "# Find missing values percentage in the data\n",
    "round(df.isnull().sum() / len(df) * 100, 2).sort_values(ascending=False) "
   ]
  },
  {
   "cell_type": "code",
   "execution_count": 31,
   "metadata": {
    "execution": {
     "iopub.execute_input": "2024-08-15T05:18:52.761155Z",
     "iopub.status.busy": "2024-08-15T05:18:52.760834Z",
     "iopub.status.idle": "2024-08-15T05:18:52.771722Z",
     "shell.execute_reply": "2024-08-15T05:18:52.770576Z",
     "shell.execute_reply.started": "2024-08-15T05:18:52.761128Z"
    }
   },
   "outputs": [],
   "source": [
    "# Impute missing values\n",
    "df['rating_count'] = df.rating_count.fillna(value=df['rating_count'].median())"
   ]
  },
  {
   "cell_type": "code",
   "execution_count": 32,
   "metadata": {
    "execution": {
     "iopub.execute_input": "2024-08-15T05:18:52.773493Z",
     "iopub.status.busy": "2024-08-15T05:18:52.773160Z",
     "iopub.status.idle": "2024-08-15T05:18:52.787339Z",
     "shell.execute_reply": "2024-08-15T05:18:52.786181Z",
     "shell.execute_reply.started": "2024-08-15T05:18:52.773465Z"
    }
   },
   "outputs": [
    {
     "data": {
      "text/plain": [
       "product_id             0\n",
       "product_name           0\n",
       "category               0\n",
       "sub_category           0\n",
       "discounted_price       0\n",
       "actual_price           0\n",
       "discount_percentage    0\n",
       "rating                 0\n",
       "rating_count           0\n",
       "dtype: int64"
      ]
     },
     "execution_count": 32,
     "metadata": {},
     "output_type": "execute_result"
    }
   ],
   "source": [
    "df.isnull().sum().sort_values(ascending = False)"
   ]
  },
  {
   "cell_type": "markdown",
   "metadata": {},
   "source": [
    "#### ***Milestone 1: We have cleaned the dataset from null values***"
   ]
  },
  {
   "cell_type": "markdown",
   "metadata": {},
   "source": [
    "### ***Find Duplications and Analyse them***"
   ]
  },
  {
   "cell_type": "markdown",
   "metadata": {},
   "source": [
    "## Duplicates\n",
    "\n",
    "***Removing duplicates is one of the most important part of the data wrangling process, we must remove the duplicates in order to get the correct insights from the data.\n",
    "If you do not remove duplicates from a dataset, it can lead to incorrect insights and analysis.***\n",
    "\n",
    "***Duplicates can skew statistical measures such as mean, median, and standard deviation, and can also lead to over-representation of certain data points.\n",
    "It is important to remove duplicates to ensure the accuracy and reliability of your data analysis.***"
   ]
  },
  {
   "cell_type": "code",
   "execution_count": 33,
   "metadata": {
    "execution": {
     "iopub.execute_input": "2024-08-15T05:18:52.789150Z",
     "iopub.status.busy": "2024-08-15T05:18:52.788768Z",
     "iopub.status.idle": "2024-08-15T05:18:52.804107Z",
     "shell.execute_reply": "2024-08-15T05:18:52.802901Z",
     "shell.execute_reply.started": "2024-08-15T05:18:52.789120Z"
    }
   },
   "outputs": [
    {
     "data": {
      "text/plain": [
       "True"
      ]
     },
     "execution_count": 33,
     "metadata": {},
     "output_type": "execute_result"
    }
   ],
   "source": [
    "# Find Duplicate\n",
    "df.duplicated().any()"
   ]
  },
  {
   "cell_type": "code",
   "execution_count": 34,
   "metadata": {
    "execution": {
     "iopub.execute_input": "2024-08-15T05:18:52.806292Z",
     "iopub.status.busy": "2024-08-15T05:18:52.805829Z",
     "iopub.status.idle": "2024-08-15T05:18:52.825401Z",
     "shell.execute_reply": "2024-08-15T05:18:52.824293Z",
     "shell.execute_reply.started": "2024-08-15T05:18:52.806250Z"
    }
   },
   "outputs": [
    {
     "name": "stdout",
     "output_type": "stream",
     "text": [
      "      product_id                                       product_name  \\\n",
      "113   B07XLCFSSN         AmazonBascs New Release Lghtnng Cable Cord   \n",
      "250   B08WRWPM22                       boAt Mcro USB 55 Tangle free   \n",
      "689   B0B9BD2YL4   KNGONE Wreless Chargng Pencl for Pad wth Magnetc   \n",
      "718   B0BMXMLSMM         Lapster 65W OnePlus Dash Warp Charge Cable   \n",
      "818   B083342NKJ  M Braded USB Type C Cable for Chargng Adapter ...   \n",
      "824   B08DDRGWTJ              M Usb Type C Cable Smartphone (Black)   \n",
      "858   B09ZQK9X8G  Nose ColorFt Pro 4 Advanced Bluetooth Callng S...   \n",
      "863   B09NVPSCQT               Nose ColorFt Pulse Grand Smart Watch   \n",
      "967   B08R69VDHT  Pnnaclz Orgnal Combo of 2 Mcro USB Fast Chargn...   \n",
      "988   B09KLVMZ3B  Portroncs Konnect L 1.2M Fast Chargng 3A 8 Pn ...   \n",
      "996   B08CF3D7QR  Portroncs Konnect L POR 1081 Chargng 3A Type C...   \n",
      "1052  B08Y1TFSP6  pTron Solero TB301 3A Type C Data and Fast Cha...   \n",
      "1217  B085HY1DGR     Sounce Spral Charger Cable Protector (12 Unts)   \n",
      "1327  B094YFFSMY  Tygot Bluetooth Selfe Stcks wth Wreless Remote...   \n",
      "\n",
      "                   category               sub_category  discounted_price  \\\n",
      "113   Computers&Accessories                     Cables            899.00   \n",
      "250   Computers&Accessories                     Cables            176.63   \n",
      "689             Electronics                 StylusPens           2599.00   \n",
      "718   Computers&Accessories                     Cables            199.00   \n",
      "818   Computers&Accessories                     Cables            349.00   \n",
      "824   Computers&Accessories                     Cables            229.00   \n",
      "858             Electronics               SmartWatches           2998.00   \n",
      "863             Electronics               SmartWatches           1599.00   \n",
      "967   Computers&Accessories                     Cables            115.00   \n",
      "988   Computers&Accessories                     Cables            159.00   \n",
      "996   Computers&Accessories                     Cables            154.00   \n",
      "1052  Computers&Accessories                     Cables            149.00   \n",
      "1217  Computers&Accessories  CableConnectionProtectors             99.00   \n",
      "1327            Electronics     Photo&VideoAccessories            399.00   \n",
      "\n",
      "      actual_price  discount_percentage  rating  rating_count  \n",
      "113         1900.0                 0.53     4.4       13552.0  \n",
      "250          499.0                 0.65     4.1       15189.0  \n",
      "689         6999.0                 0.63     4.5        1526.0  \n",
      "718          999.0                 0.80     4.5         127.0  \n",
      "818          399.0                 0.13     4.4       18757.0  \n",
      "824          299.0                 0.23     4.3       30411.0  \n",
      "858         5999.0                 0.50     4.1        5179.0  \n",
      "863         3999.0                 0.60     4.0       30254.0  \n",
      "967          499.0                 0.77     4.0        7732.0  \n",
      "988          399.0                 0.60     4.1        4768.0  \n",
      "996          339.0                 0.55     4.3       13391.0  \n",
      "1052        1000.0                 0.85     3.9       24870.0  \n",
      "1217         999.0                 0.90     4.0        1396.0  \n",
      "1327        1999.0                 0.80     4.0        3382.0  \n"
     ]
    }
   ],
   "source": [
    "duplicate_rows = df[df.duplicated()]\n",
    "print(duplicate_rows)"
   ]
  },
  {
   "cell_type": "code",
   "execution_count": 35,
   "metadata": {
    "execution": {
     "iopub.execute_input": "2024-08-15T05:18:52.827287Z",
     "iopub.status.busy": "2024-08-15T05:18:52.826866Z",
     "iopub.status.idle": "2024-08-15T05:18:52.836791Z",
     "shell.execute_reply": "2024-08-15T05:18:52.835498Z",
     "shell.execute_reply.started": "2024-08-15T05:18:52.827248Z"
    }
   },
   "outputs": [],
   "source": [
    "# Remove duplicate rows, keeping the first occurrence\n",
    "df = df.drop_duplicates(keep=False)"
   ]
  },
  {
   "cell_type": "code",
   "execution_count": 36,
   "metadata": {
    "execution": {
     "iopub.execute_input": "2024-08-15T05:18:52.838454Z",
     "iopub.status.busy": "2024-08-15T05:18:52.838143Z",
     "iopub.status.idle": "2024-08-15T05:18:52.851595Z",
     "shell.execute_reply": "2024-08-15T05:18:52.850372Z",
     "shell.execute_reply.started": "2024-08-15T05:18:52.838417Z"
    }
   },
   "outputs": [
    {
     "data": {
      "text/plain": [
       "False"
      ]
     },
     "execution_count": 36,
     "metadata": {},
     "output_type": "execute_result"
    }
   ],
   "source": [
    "df.duplicated().any()"
   ]
  },
  {
   "cell_type": "markdown",
   "metadata": {},
   "source": [
    "### **Milestone 2: Hence no duplicates found**"
   ]
  },
  {
   "cell_type": "markdown",
   "metadata": {},
   "source": [
    "## **Data Visualization**\n",
    "\n",
    "\n",
    "\n",
    "### ***Scatter Plot***"
   ]
  },
  {
   "cell_type": "markdown",
   "metadata": {},
   "source": [
    "### ***1. Top 10 Categories by Number of Products***"
   ]
  },
  {
   "cell_type": "code",
   "execution_count": 37,
   "metadata": {
    "execution": {
     "iopub.execute_input": "2024-08-15T05:18:52.853628Z",
     "iopub.status.busy": "2024-08-15T05:18:52.853285Z",
     "iopub.status.idle": "2024-08-15T05:18:53.254230Z",
     "shell.execute_reply": "2024-08-15T05:18:53.253052Z",
     "shell.execute_reply.started": "2024-08-15T05:18:52.853599Z"
    }
   },
   "outputs": [
    {
     "data": {
      "image/png": "[encoded data removed]",
      "text/plain": [
       "<Figure size 1200x500 with 1 Axes>"
      ]
     },
     "metadata": {},
     "output_type": "display_data"
    }
   ],
   "source": [
    "top_categories = df['category'].value_counts().head(10)\n",
    "\n",
    "plt.figure(figsize=(12,5))\n",
    "sns.barplot(x=top_categories.index, y=top_categories.values)\n",
    "plt.title('Top 10 Categories by Number of Products')\n",
    "plt.xlabel('Category')\n",
    "plt.ylabel('Number of Products')\n",
    "plt.xticks(rotation=45)\n",
    "plt.show()"
   ]
  },
  {
   "cell_type": "markdown",
   "metadata": {},
   "source": [
    "***Electronics dominates the product mix with a significant lead over other categories. Home & Kitchen and Computers & Accessories follow as strong performers. The remaining categories exhibit lower product counts, indicating potential areas for expansion or product diversification.***"
   ]
  },
  {
   "cell_type": "markdown",
   "metadata": {},
   "source": [
    "### ***2. What is the distribution of ratings across all products?***"
   ]
  },
  {
   "cell_type": "code",
   "execution_count": 38,
   "metadata": {
    "execution": {
     "iopub.execute_input": "2024-08-15T05:18:53.256401Z",
     "iopub.status.busy": "2024-08-15T05:18:53.255943Z",
     "iopub.status.idle": "2024-08-15T05:18:53.662328Z",
     "shell.execute_reply": "2024-08-15T05:18:53.661182Z",
     "shell.execute_reply.started": "2024-08-15T05:18:53.256360Z"
    }
   },
   "outputs": [
    {
     "data": {
      "image/png": "[encoded data removed]",
      "text/plain": [
       "<Figure size 640x480 with 1 Axes>"
      ]
     },
     "metadata": {},
     "output_type": "display_data"
    }
   ],
   "source": [
    "sns.histplot(df['rating'], bins=10, kde=True)\n",
    "plt.title('Distribution of Ratings')\n",
    "plt.xlabel('Rating')\n",
    "plt.ylabel('Frequency')\n",
    "plt.show()"
   ]
  },
  {
   "cell_type": "markdown",
   "metadata": {},
   "source": [
    "***The distribution of ratings is heavily skewed towards higher ratings, with a peak around 4.25. This indicates a generally positive customer sentiment. However, there's a smaller but noticeable tail towards lower ratings,suggesting areas for improvement.***"
   ]
  },
  {
   "cell_type": "markdown",
   "metadata": {},
   "source": [
    "### ***3. Top 10 Products with Highest Discount***"
   ]
  },
  {
   "cell_type": "code",
   "execution_count": 39,
   "metadata": {
    "execution": {
     "iopub.execute_input": "2024-08-15T05:18:53.664098Z",
     "iopub.status.busy": "2024-08-15T05:18:53.663681Z",
     "iopub.status.idle": "2024-08-15T05:18:54.119018Z",
     "shell.execute_reply": "2024-08-15T05:18:54.117898Z",
     "shell.execute_reply.started": "2024-08-15T05:18:53.664066Z"
    }
   },
   "outputs": [
    {
     "data": {
      "image/png": "[encoded data removed]",
      "text/plain": [
       "<Figure size 1800x750 with 1 Axes>"
      ]
     },
     "metadata": {},
     "output_type": "display_data"
    }
   ],
   "source": [
    "top_discounted_products = df.sort_values('discount_percentage', ascending=False).head(10)\n",
    "\n",
    "plt.figure(dpi=150,figsize=(12,5))\n",
    "sns.barplot(x='product_name', y='discount_percentage', data=top_discounted_products)\n",
    "plt.title('Top 10 Products with Highest Discount')\n",
    "plt.xlabel('Product Name')\n",
    "plt.ylabel('Discount Percentage')\n",
    "plt.xticks(rotation=80)\n",
    "plt.show()"
   ]
  },
  {
   "cell_type": "markdown",
   "metadata": {},
   "source": [
    " ***rts Mn USB C Type C Adapter Plug holds the top position with the steepest discount, followed closely by \"Fre Boltt Nnja Call Pro Plus 1.83 Smart Watch\". The remaining products exhibit varying discount levels. This analysis can inform promotional strategies and pricing optimization.***"
   ]
  },
  {
   "cell_type": "markdown",
   "metadata": {},
   "source": [
    "## ***Heatmap***\n",
    "\n",
    "***Plot correlations between variables***"
   ]
  },
  {
   "cell_type": "code",
   "execution_count": 40,
   "metadata": {
    "execution": {
     "iopub.execute_input": "2024-08-15T05:18:54.121050Z",
     "iopub.status.busy": "2024-08-15T05:18:54.120672Z",
     "iopub.status.idle": "2024-08-15T05:18:54.220545Z",
     "shell.execute_reply": "2024-08-15T05:18:54.219560Z",
     "shell.execute_reply.started": "2024-08-15T05:18:54.121020Z"
    }
   },
   "outputs": [],
   "source": [
    "from sklearn.preprocessing import LabelEncoder\n",
    "# label encode categorical variables\n",
    "\n",
    "le_product_id = LabelEncoder()\n",
    "le_category = LabelEncoder()\n",
    "le_sub_category = LabelEncoder()\n",
    "le_product_name = LabelEncoder() \n",
    "\n",
    "df['product_id'] = le_product_id.fit_transform(df['product_id'])\n",
    "df['category'] = le_category.fit_transform(df['category'])\n",
    "df['sub_category']=le_sub_category.fit_transform(df['sub_category'])\n",
    "df['product_name'] = le_product_name.fit_transform(df['product_name'])"
   ]
  },
  {
   "cell_type": "code",
   "execution_count": 41,
   "metadata": {
    "execution": {
     "iopub.execute_input": "2024-08-15T05:18:54.222277Z",
     "iopub.status.busy": "2024-08-15T05:18:54.221923Z",
     "iopub.status.idle": "2024-08-15T05:18:54.996496Z",
     "shell.execute_reply": "2024-08-15T05:18:54.995286Z",
     "shell.execute_reply.started": "2024-08-15T05:18:54.222248Z"
    }
   },
   "outputs": [
    {
     "data": {
      "image/png": "[encoded data removed]",
      "text/plain": [
       "<Figure size 2250x1350 with 2 Axes>"
      ]
     },
     "metadata": {},
     "output_type": "display_data"
    }
   ],
   "source": [
    "correlation_matrix=df.corr()\n",
    "plt.figure(dpi=150,figsize=(15,9))\n",
    "sns.heatmap(correlation_matrix,annot=True)\n",
    "plt.show()"
   ]
  },
  {
   "cell_type": "markdown",
   "metadata": {},
   "source": [
    "#### ***Strong Positive Correlations:***\n",
    "\n",
    "discounted_price and actual_price have a very strong positive correlation (0.96), indicating a high degree of linear relationship between these variables.\n",
    "\n",
    "#### ***Negative Correlations:***\n",
    "\n",
    "rating and rating_count show a weak positive correlation (0.1), suggesting a slight tendency for products with higher ratings to have more ratings."
   ]
  },
  {
   "cell_type": "markdown",
   "metadata": {},
   "source": [
    "## ***Grouping and Aggregation***"
   ]
  },
  {
   "cell_type": "code",
   "execution_count": 42,
   "metadata": {
    "execution": {
     "iopub.execute_input": "2024-08-15T05:18:54.998217Z",
     "iopub.status.busy": "2024-08-15T05:18:54.997859Z",
     "iopub.status.idle": "2024-08-15T05:18:55.009509Z",
     "shell.execute_reply": "2024-08-15T05:18:55.008132Z",
     "shell.execute_reply.started": "2024-08-15T05:18:54.998173Z"
    }
   },
   "outputs": [
    {
     "name": "stdout",
     "output_type": "stream",
     "text": [
      "category\n",
      "0    3.800000\n",
      "1    4.152887\n",
      "2    4.080695\n",
      "3    4.000000\n",
      "4    4.040402\n",
      "5    4.250000\n",
      "6    3.900000\n",
      "7    4.309677\n",
      "8    4.300000\n",
      "Name: rating, dtype: float64\n"
     ]
    }
   ],
   "source": [
    "# Calculate mean sales by product category\n",
    "grouped_df = df.groupby('category')['rating'].mean()\n",
    "\n",
    "# Print mean sales by product category\n",
    "print(grouped_df)"
   ]
  },
  {
   "cell_type": "markdown",
   "metadata": {},
   "source": [
    "## ***Calculate summary statistics for groups***"
   ]
  },
  {
   "cell_type": "code",
   "execution_count": 43,
   "metadata": {
    "execution": {
     "iopub.execute_input": "2024-08-15T05:18:55.011700Z",
     "iopub.status.busy": "2024-08-15T05:18:55.011187Z",
     "iopub.status.idle": "2024-08-15T05:18:55.026805Z",
     "shell.execute_reply": "2024-08-15T05:18:55.025495Z",
     "shell.execute_reply.started": "2024-08-15T05:18:55.011665Z"
    }
   },
   "outputs": [
    {
     "data": {
      "text/plain": [
       "category\n",
       "0    3.800000\n",
       "1    4.152887\n",
       "2    4.080695\n",
       "3    4.000000\n",
       "4    4.040402\n",
       "5    4.250000\n",
       "6    3.900000\n",
       "7    4.309677\n",
       "8    4.300000\n",
       "Name: rating, dtype: float64"
      ]
     },
     "execution_count": 43,
     "metadata": {},
     "output_type": "execute_result"
    }
   ],
   "source": [
    "# Mean rating by category\n",
    "mean_sales_by_category = df.groupby('category')['rating'].mean()\n",
    "mean_sales_by_category\n"
   ]
  },
  {
   "cell_type": "code",
   "execution_count": 44,
   "metadata": {
    "execution": {
     "iopub.execute_input": "2024-08-15T05:18:55.029098Z",
     "iopub.status.busy": "2024-08-15T05:18:55.028686Z",
     "iopub.status.idle": "2024-08-15T05:18:55.043872Z",
     "shell.execute_reply": "2024-08-15T05:18:55.042700Z",
     "shell.execute_reply.started": "2024-08-15T05:18:55.029063Z"
    }
   },
   "outputs": [
    {
     "data": {
      "text/plain": [
       "sub_category\n",
       "0      3.50\n",
       "1      4.00\n",
       "2      4.45\n",
       "3      4.20\n",
       "4      4.15\n",
       "       ... \n",
       "150    4.00\n",
       "151    4.10\n",
       "152    4.00\n",
       "153    4.20\n",
       "154    4.10\n",
       "Name: rating, Length: 155, dtype: float64"
      ]
     },
     "execution_count": 44,
     "metadata": {},
     "output_type": "execute_result"
    }
   ],
   "source": [
    "# Median rating by review_content\n",
    "median_sales_by_age = df.groupby('sub_category')['rating'].median()\n",
    "median_sales_by_age\n",
    "\n"
   ]
  },
  {
   "cell_type": "markdown",
   "metadata": {},
   "source": [
    "## ***Statistical Tests:***"
   ]
  },
  {
   "cell_type": "code",
   "execution_count": 45,
   "metadata": {
    "execution": {
     "iopub.execute_input": "2024-08-15T05:18:55.048694Z",
     "iopub.status.busy": "2024-08-15T05:18:55.047801Z",
     "iopub.status.idle": "2024-08-15T05:18:55.114074Z",
     "shell.execute_reply": "2024-08-15T05:18:55.112980Z",
     "shell.execute_reply.started": "2024-08-15T05:18:55.048660Z"
    }
   },
   "outputs": [
    {
     "data": {
      "text/html": [
       "<div>\n",
       "<style scoped>\n",
       "    .dataframe tbody tr th:only-of-type {\n",
       "        vertical-align: middle;\n",
       "    }\n",
       "\n",
       "    .dataframe tbody tr th {\n",
       "        vertical-align: top;\n",
       "    }\n",
       "\n",
       "    .dataframe thead th {\n",
       "        text-align: right;\n",
       "    }\n",
       "</style>\n",
       "<table border=\"1\" class=\"dataframe\">\n",
       "  <thead>\n",
       "    <tr style=\"text-align: right;\">\n",
       "      <th>rating</th>\n",
       "      <th>2.0</th>\n",
       "      <th>2.3</th>\n",
       "      <th>2.6</th>\n",
       "      <th>2.8</th>\n",
       "      <th>2.9</th>\n",
       "      <th>3.0</th>\n",
       "      <th>3.1</th>\n",
       "      <th>3.2</th>\n",
       "      <th>3.3</th>\n",
       "      <th>3.4</th>\n",
       "      <th>3.5</th>\n",
       "      <th>3.6</th>\n",
       "      <th>3.7</th>\n",
       "      <th>3.8</th>\n",
       "      <th>3.9</th>\n",
       "      <th>4.0</th>\n",
       "      <th>4.1</th>\n",
       "      <th>4.2</th>\n",
       "      <th>4.3</th>\n",
       "      <th>4.4</th>\n",
       "      <th>4.5</th>\n",
       "      <th>4.6</th>\n",
       "      <th>4.7</th>\n",
       "      <th>4.8</th>\n",
       "      <th>5.0</th>\n",
       "    </tr>\n",
       "    <tr>\n",
       "      <th>actual_price</th>\n",
       "      <th></th>\n",
       "      <th></th>\n",
       "      <th></th>\n",
       "      <th></th>\n",
       "      <th></th>\n",
       "      <th></th>\n",
       "      <th></th>\n",
       "      <th></th>\n",
       "      <th></th>\n",
       "      <th></th>\n",
       "      <th></th>\n",
       "      <th></th>\n",
       "      <th></th>\n",
       "      <th></th>\n",
       "      <th></th>\n",
       "      <th></th>\n",
       "      <th></th>\n",
       "      <th></th>\n",
       "      <th></th>\n",
       "      <th></th>\n",
       "      <th></th>\n",
       "      <th></th>\n",
       "      <th></th>\n",
       "      <th></th>\n",
       "      <th></th>\n",
       "    </tr>\n",
       "  </thead>\n",
       "  <tbody>\n",
       "    <tr>\n",
       "      <th>39.0</th>\n",
       "      <td>0</td>\n",
       "      <td>0</td>\n",
       "      <td>0</td>\n",
       "      <td>0</td>\n",
       "      <td>0</td>\n",
       "      <td>0</td>\n",
       "      <td>0</td>\n",
       "      <td>0</td>\n",
       "      <td>0</td>\n",
       "      <td>0</td>\n",
       "      <td>0</td>\n",
       "      <td>1</td>\n",
       "      <td>0</td>\n",
       "      <td>1</td>\n",
       "      <td>0</td>\n",
       "      <td>0</td>\n",
       "      <td>0</td>\n",
       "      <td>0</td>\n",
       "      <td>0</td>\n",
       "      <td>0</td>\n",
       "      <td>0</td>\n",
       "      <td>0</td>\n",
       "      <td>0</td>\n",
       "      <td>0</td>\n",
       "      <td>0</td>\n",
       "    </tr>\n",
       "    <tr>\n",
       "      <th>50.0</th>\n",
       "      <td>0</td>\n",
       "      <td>0</td>\n",
       "      <td>0</td>\n",
       "      <td>0</td>\n",
       "      <td>0</td>\n",
       "      <td>0</td>\n",
       "      <td>0</td>\n",
       "      <td>0</td>\n",
       "      <td>0</td>\n",
       "      <td>0</td>\n",
       "      <td>0</td>\n",
       "      <td>0</td>\n",
       "      <td>0</td>\n",
       "      <td>0</td>\n",
       "      <td>0</td>\n",
       "      <td>0</td>\n",
       "      <td>0</td>\n",
       "      <td>0</td>\n",
       "      <td>1</td>\n",
       "      <td>0</td>\n",
       "      <td>0</td>\n",
       "      <td>0</td>\n",
       "      <td>0</td>\n",
       "      <td>0</td>\n",
       "      <td>0</td>\n",
       "    </tr>\n",
       "    <tr>\n",
       "      <th>59.0</th>\n",
       "      <td>0</td>\n",
       "      <td>0</td>\n",
       "      <td>0</td>\n",
       "      <td>0</td>\n",
       "      <td>0</td>\n",
       "      <td>0</td>\n",
       "      <td>0</td>\n",
       "      <td>0</td>\n",
       "      <td>0</td>\n",
       "      <td>0</td>\n",
       "      <td>0</td>\n",
       "      <td>0</td>\n",
       "      <td>0</td>\n",
       "      <td>1</td>\n",
       "      <td>0</td>\n",
       "      <td>0</td>\n",
       "      <td>0</td>\n",
       "      <td>0</td>\n",
       "      <td>0</td>\n",
       "      <td>0</td>\n",
       "      <td>0</td>\n",
       "      <td>0</td>\n",
       "      <td>0</td>\n",
       "      <td>0</td>\n",
       "      <td>0</td>\n",
       "    </tr>\n",
       "    <tr>\n",
       "      <th>75.0</th>\n",
       "      <td>0</td>\n",
       "      <td>0</td>\n",
       "      <td>0</td>\n",
       "      <td>0</td>\n",
       "      <td>0</td>\n",
       "      <td>0</td>\n",
       "      <td>0</td>\n",
       "      <td>0</td>\n",
       "      <td>0</td>\n",
       "      <td>0</td>\n",
       "      <td>0</td>\n",
       "      <td>0</td>\n",
       "      <td>0</td>\n",
       "      <td>0</td>\n",
       "      <td>0</td>\n",
       "      <td>0</td>\n",
       "      <td>1</td>\n",
       "      <td>0</td>\n",
       "      <td>0</td>\n",
       "      <td>0</td>\n",
       "      <td>0</td>\n",
       "      <td>0</td>\n",
       "      <td>0</td>\n",
       "      <td>0</td>\n",
       "      <td>0</td>\n",
       "    </tr>\n",
       "    <tr>\n",
       "      <th>79.0</th>\n",
       "      <td>0</td>\n",
       "      <td>0</td>\n",
       "      <td>0</td>\n",
       "      <td>0</td>\n",
       "      <td>0</td>\n",
       "      <td>0</td>\n",
       "      <td>0</td>\n",
       "      <td>0</td>\n",
       "      <td>0</td>\n",
       "      <td>0</td>\n",
       "      <td>0</td>\n",
       "      <td>0</td>\n",
       "      <td>0</td>\n",
       "      <td>0</td>\n",
       "      <td>0</td>\n",
       "      <td>1</td>\n",
       "      <td>0</td>\n",
       "      <td>0</td>\n",
       "      <td>0</td>\n",
       "      <td>0</td>\n",
       "      <td>0</td>\n",
       "      <td>0</td>\n",
       "      <td>0</td>\n",
       "      <td>0</td>\n",
       "      <td>0</td>\n",
       "    </tr>\n",
       "    <tr>\n",
       "      <th>...</th>\n",
       "      <td>...</td>\n",
       "      <td>...</td>\n",
       "      <td>...</td>\n",
       "      <td>...</td>\n",
       "      <td>...</td>\n",
       "      <td>...</td>\n",
       "      <td>...</td>\n",
       "      <td>...</td>\n",
       "      <td>...</td>\n",
       "      <td>...</td>\n",
       "      <td>...</td>\n",
       "      <td>...</td>\n",
       "      <td>...</td>\n",
       "      <td>...</td>\n",
       "      <td>...</td>\n",
       "      <td>...</td>\n",
       "      <td>...</td>\n",
       "      <td>...</td>\n",
       "      <td>...</td>\n",
       "      <td>...</td>\n",
       "      <td>...</td>\n",
       "      <td>...</td>\n",
       "      <td>...</td>\n",
       "      <td>...</td>\n",
       "      <td>...</td>\n",
       "    </tr>\n",
       "    <tr>\n",
       "      <th>74999.0</th>\n",
       "      <td>0</td>\n",
       "      <td>0</td>\n",
       "      <td>0</td>\n",
       "      <td>0</td>\n",
       "      <td>0</td>\n",
       "      <td>0</td>\n",
       "      <td>0</td>\n",
       "      <td>0</td>\n",
       "      <td>0</td>\n",
       "      <td>0</td>\n",
       "      <td>0</td>\n",
       "      <td>0</td>\n",
       "      <td>0</td>\n",
       "      <td>0</td>\n",
       "      <td>0</td>\n",
       "      <td>0</td>\n",
       "      <td>0</td>\n",
       "      <td>1</td>\n",
       "      <td>0</td>\n",
       "      <td>0</td>\n",
       "      <td>0</td>\n",
       "      <td>0</td>\n",
       "      <td>0</td>\n",
       "      <td>0</td>\n",
       "      <td>0</td>\n",
       "    </tr>\n",
       "    <tr>\n",
       "      <th>75990.0</th>\n",
       "      <td>0</td>\n",
       "      <td>0</td>\n",
       "      <td>0</td>\n",
       "      <td>0</td>\n",
       "      <td>0</td>\n",
       "      <td>0</td>\n",
       "      <td>0</td>\n",
       "      <td>0</td>\n",
       "      <td>0</td>\n",
       "      <td>0</td>\n",
       "      <td>0</td>\n",
       "      <td>0</td>\n",
       "      <td>0</td>\n",
       "      <td>0</td>\n",
       "      <td>0</td>\n",
       "      <td>0</td>\n",
       "      <td>0</td>\n",
       "      <td>0</td>\n",
       "      <td>1</td>\n",
       "      <td>0</td>\n",
       "      <td>0</td>\n",
       "      <td>0</td>\n",
       "      <td>0</td>\n",
       "      <td>0</td>\n",
       "      <td>0</td>\n",
       "    </tr>\n",
       "    <tr>\n",
       "      <th>79990.0</th>\n",
       "      <td>0</td>\n",
       "      <td>0</td>\n",
       "      <td>0</td>\n",
       "      <td>0</td>\n",
       "      <td>0</td>\n",
       "      <td>0</td>\n",
       "      <td>0</td>\n",
       "      <td>0</td>\n",
       "      <td>0</td>\n",
       "      <td>0</td>\n",
       "      <td>0</td>\n",
       "      <td>0</td>\n",
       "      <td>0</td>\n",
       "      <td>0</td>\n",
       "      <td>0</td>\n",
       "      <td>0</td>\n",
       "      <td>0</td>\n",
       "      <td>0</td>\n",
       "      <td>1</td>\n",
       "      <td>0</td>\n",
       "      <td>0</td>\n",
       "      <td>0</td>\n",
       "      <td>0</td>\n",
       "      <td>0</td>\n",
       "      <td>0</td>\n",
       "    </tr>\n",
       "    <tr>\n",
       "      <th>85000.0</th>\n",
       "      <td>0</td>\n",
       "      <td>0</td>\n",
       "      <td>0</td>\n",
       "      <td>0</td>\n",
       "      <td>0</td>\n",
       "      <td>0</td>\n",
       "      <td>0</td>\n",
       "      <td>0</td>\n",
       "      <td>0</td>\n",
       "      <td>0</td>\n",
       "      <td>0</td>\n",
       "      <td>0</td>\n",
       "      <td>0</td>\n",
       "      <td>0</td>\n",
       "      <td>0</td>\n",
       "      <td>0</td>\n",
       "      <td>0</td>\n",
       "      <td>0</td>\n",
       "      <td>1</td>\n",
       "      <td>0</td>\n",
       "      <td>0</td>\n",
       "      <td>0</td>\n",
       "      <td>0</td>\n",
       "      <td>0</td>\n",
       "      <td>0</td>\n",
       "    </tr>\n",
       "    <tr>\n",
       "      <th>139900.0</th>\n",
       "      <td>0</td>\n",
       "      <td>0</td>\n",
       "      <td>0</td>\n",
       "      <td>0</td>\n",
       "      <td>0</td>\n",
       "      <td>0</td>\n",
       "      <td>0</td>\n",
       "      <td>0</td>\n",
       "      <td>0</td>\n",
       "      <td>0</td>\n",
       "      <td>0</td>\n",
       "      <td>0</td>\n",
       "      <td>0</td>\n",
       "      <td>0</td>\n",
       "      <td>0</td>\n",
       "      <td>0</td>\n",
       "      <td>0</td>\n",
       "      <td>0</td>\n",
       "      <td>0</td>\n",
       "      <td>0</td>\n",
       "      <td>0</td>\n",
       "      <td>0</td>\n",
       "      <td>1</td>\n",
       "      <td>0</td>\n",
       "      <td>0</td>\n",
       "    </tr>\n",
       "  </tbody>\n",
       "</table>\n",
       "<p>449 rows × 25 columns</p>\n",
       "</div>"
      ],
      "text/plain": [
       "rating        2.0  2.3  2.6  2.8  2.9  3.0  3.1  3.2  3.3  3.4  3.5  3.6  3.7  \\\n",
       "actual_price                                                                    \n",
       "39.0            0    0    0    0    0    0    0    0    0    0    0    1    0   \n",
       "50.0            0    0    0    0    0    0    0    0    0    0    0    0    0   \n",
       "59.0            0    0    0    0    0    0    0    0    0    0    0    0    0   \n",
       "75.0            0    0    0    0    0    0    0    0    0    0    0    0    0   \n",
       "79.0            0    0    0    0    0    0    0    0    0    0    0    0    0   \n",
       "...           ...  ...  ...  ...  ...  ...  ...  ...  ...  ...  ...  ...  ...   \n",
       "74999.0         0    0    0    0    0    0    0    0    0    0    0    0    0   \n",
       "75990.0         0    0    0    0    0    0    0    0    0    0    0    0    0   \n",
       "79990.0         0    0    0    0    0    0    0    0    0    0    0    0    0   \n",
       "85000.0         0    0    0    0    0    0    0    0    0    0    0    0    0   \n",
       "139900.0        0    0    0    0    0    0    0    0    0    0    0    0    0   \n",
       "\n",
       "rating        3.8  3.9  4.0  4.1  4.2  4.3  4.4  4.5  4.6  4.7  4.8  5.0  \n",
       "actual_price                                                              \n",
       "39.0            1    0    0    0    0    0    0    0    0    0    0    0  \n",
       "50.0            0    0    0    0    0    1    0    0    0    0    0    0  \n",
       "59.0            1    0    0    0    0    0    0    0    0    0    0    0  \n",
       "75.0            0    0    0    1    0    0    0    0    0    0    0    0  \n",
       "79.0            0    0    1    0    0    0    0    0    0    0    0    0  \n",
       "...           ...  ...  ...  ...  ...  ...  ...  ...  ...  ...  ...  ...  \n",
       "74999.0         0    0    0    0    1    0    0    0    0    0    0    0  \n",
       "75990.0         0    0    0    0    0    1    0    0    0    0    0    0  \n",
       "79990.0         0    0    0    0    0    1    0    0    0    0    0    0  \n",
       "85000.0         0    0    0    0    0    1    0    0    0    0    0    0  \n",
       "139900.0        0    0    0    0    0    0    0    0    0    1    0    0  \n",
       "\n",
       "[449 rows x 25 columns]"
      ]
     },
     "execution_count": 45,
     "metadata": {},
     "output_type": "execute_result"
    }
   ],
   "source": [
    "# Chi-square test\n",
    "\n",
    "# Create a contigency table\n",
    "contigency_table = pd.crosstab(df['actual_price'], df['rating'])\n",
    "contigency_table"
   ]
  },
  {
   "cell_type": "code",
   "execution_count": 47,
   "metadata": {
    "execution": {
     "iopub.execute_input": "2024-08-15T05:20:12.019782Z",
     "iopub.status.busy": "2024-08-15T05:20:12.019280Z",
     "iopub.status.idle": "2024-08-15T05:20:12.034345Z",
     "shell.execute_reply": "2024-08-15T05:20:12.032735Z",
     "shell.execute_reply.started": "2024-08-15T05:20:12.019747Z"
    }
   },
   "outputs": [
    {
     "name": "stdout",
     "output_type": "stream",
     "text": [
      "Chi-square statistic: 8565.895782388883\n",
      "p-value: 1.0\n",
      "Degrees of freedom: 10752\n",
      "Expected:\n",
      " [[0.00139179 0.00139179 0.00139179 ... 0.00835073 0.00417537 0.00417537]\n",
      " [0.00069589 0.00069589 0.00069589 ... 0.00417537 0.00208768 0.00208768]\n",
      " [0.00069589 0.00069589 0.00069589 ... 0.00417537 0.00208768 0.00208768]\n",
      " ...\n",
      " [0.00069589 0.00069589 0.00069589 ... 0.00417537 0.00208768 0.00208768]\n",
      " [0.00069589 0.00069589 0.00069589 ... 0.00417537 0.00208768 0.00208768]\n",
      " [0.00069589 0.00069589 0.00069589 ... 0.00417537 0.00208768 0.00208768]]\n"
     ]
    }
   ],
   "source": [
    "\n",
    "import scipy.stats as stats\n",
    "# perform chi-square test\n",
    "chi2, p, dof, expected = stats.chi2_contingency(contigency_table)\n",
    "\n",
    "# print the results\n",
    "print('Chi-square statistic:', chi2)\n",
    "print('p-value:', p)\n",
    "print('Degrees of freedom:', dof)\n",
    "print(f\"Expected:\\n {expected}\")"
   ]
  },
  {
   "cell_type": "markdown",
   "metadata": {},
   "source": [
    "***The chi-square test statistic is 8565.8958 with a p-value of 1.0000 and 10752 degrees of freedom.***\n",
    "\n",
    "***Since the p-value is very high (1.0), we fail to reject the null hypothesis. This suggests that there is no statistically significant association between the observed data and the expected distribution.***"
   ]
  },
  {
   "cell_type": "code",
   "execution_count": 49,
   "metadata": {
    "execution": {
     "iopub.execute_input": "2024-08-15T05:30:51.223494Z",
     "iopub.status.busy": "2024-08-15T05:30:51.223016Z",
     "iopub.status.idle": "2024-08-15T05:30:51.237091Z",
     "shell.execute_reply": "2024-08-15T05:30:51.235854Z",
     "shell.execute_reply.started": "2024-08-15T05:30:51.223459Z"
    }
   },
   "outputs": [],
   "source": [
    "df['product_id'] = le_product_id.inverse_transform(df['product_id'])\n",
    "df['category'] = le_category.inverse_transform(df['category'])\n",
    "df['sub_category']=le_sub_category.inverse_transform(df['sub_category'])\n",
    "df['product_name'] = le_product_name.inverse_transform(df['product_name'])"
   ]
  },
  {
   "cell_type": "markdown",
   "metadata": {},
   "source": [
    "***Employing inverse transformations to conduct exploratory data analysis (EDA) operations.***"
   ]
  },
  {
   "cell_type": "markdown",
   "metadata": {},
   "source": [
    "# ***Some of the important aspects of EDA opererations***"
   ]
  },
  {
   "cell_type": "markdown",
   "metadata": {},
   "source": [
    "## Q1. What is the average rating for each product category?"
   ]
  },
  {
   "cell_type": "code",
   "execution_count": 50,
   "metadata": {
    "execution": {
     "iopub.execute_input": "2024-08-15T05:30:55.241285Z",
     "iopub.status.busy": "2024-08-15T05:30:55.240834Z",
     "iopub.status.idle": "2024-08-15T05:30:55.253641Z",
     "shell.execute_reply": "2024-08-15T05:30:55.251980Z",
     "shell.execute_reply.started": "2024-08-15T05:30:55.241253Z"
    }
   },
   "outputs": [
    {
     "data": {
      "text/plain": [
       "category\n",
       "Car&Motorbike            3.800000\n",
       "MusicalInstruments       3.900000\n",
       "Health&PersonalCare      4.000000\n",
       "Home&Kitchen             4.040402\n",
       "Electronics              4.080695\n",
       "Computers&Accessories    4.152887\n",
       "HomeImprovement          4.250000\n",
       "Toys&Games               4.300000\n",
       "OfficeProducts           4.309677\n",
       "Name: rating, dtype: float64"
      ]
     },
     "execution_count": 50,
     "metadata": {},
     "output_type": "execute_result"
    }
   ],
   "source": [
    "average_rating=df.groupby('category')['rating'].mean()\n",
    "average_rating.sort_values()"
   ]
  },
  {
   "cell_type": "markdown",
   "metadata": {},
   "source": [
    "***Office Products and Toys & Games exhibit the highest average ratings (4.3+), while Car & Motorbike has the lowest (3.8). Electronics and Computers & Accessories also demonstrate strong performance.***"
   ]
  },
  {
   "cell_type": "markdown",
   "metadata": {},
   "source": [
    "## Q2. Top rating_count products by category"
   ]
  },
  {
   "cell_type": "code",
   "execution_count": 52,
   "metadata": {
    "execution": {
     "iopub.execute_input": "2024-08-15T05:35:40.371928Z",
     "iopub.status.busy": "2024-08-15T05:35:40.370858Z",
     "iopub.status.idle": "2024-08-15T05:35:40.382078Z",
     "shell.execute_reply": "2024-08-15T05:35:40.380660Z",
     "shell.execute_reply.started": "2024-08-15T05:35:40.371889Z"
    }
   },
   "outputs": [
    {
     "data": {
      "text/plain": [
       "category\n",
       "Electronics              518\n",
       "Home&Kitchen             448\n",
       "Computers&Accessories    433\n",
       "OfficeProducts            31\n",
       "MusicalInstruments         2\n",
       "HomeImprovement            2\n",
       "Health&PersonalCare        1\n",
       "Toys&Games                 1\n",
       "Car&Motorbike              1\n",
       "Name: count, dtype: int64"
      ]
     },
     "execution_count": 52,
     "metadata": {},
     "output_type": "execute_result"
    }
   ],
   "source": [
    "df['category'].value_counts()"
   ]
  },
  {
   "cell_type": "code",
   "execution_count": 53,
   "metadata": {
    "execution": {
     "iopub.execute_input": "2024-08-15T05:35:43.930315Z",
     "iopub.status.busy": "2024-08-15T05:35:43.929836Z",
     "iopub.status.idle": "2024-08-15T05:35:43.945010Z",
     "shell.execute_reply": "2024-08-15T05:35:43.943528Z",
     "shell.execute_reply.started": "2024-08-15T05:35:43.930283Z"
    }
   },
   "outputs": [
    {
     "data": {
      "text/plain": [
       "rating_count\n",
       "9378.0     9\n",
       "18998.0    8\n",
       "24269.0    7\n",
       "43994.0    6\n",
       "13937.0    5\n",
       "          ..\n",
       "11339.0    1\n",
       "611.0      1\n",
       "15.0       1\n",
       "9650.0     1\n",
       "54.0       1\n",
       "Name: count, Length: 1138, dtype: int64"
      ]
     },
     "execution_count": 53,
     "metadata": {},
     "output_type": "execute_result"
    }
   ],
   "source": [
    "df['rating_count'].value_counts()"
   ]
  },
  {
   "cell_type": "code",
   "execution_count": 55,
   "metadata": {
    "execution": {
     "iopub.execute_input": "2024-08-15T05:37:42.534542Z",
     "iopub.status.busy": "2024-08-15T05:37:42.534096Z",
     "iopub.status.idle": "2024-08-15T05:37:42.589295Z",
     "shell.execute_reply": "2024-08-15T05:37:42.587786Z",
     "shell.execute_reply.started": "2024-08-15T05:37:42.534507Z"
    }
   },
   "outputs": [
    {
     "data": {
      "text/html": [
       "<div>\n",
       "<style scoped>\n",
       "    .dataframe tbody tr th:only-of-type {\n",
       "        vertical-align: middle;\n",
       "    }\n",
       "\n",
       "    .dataframe tbody tr th {\n",
       "        vertical-align: top;\n",
       "    }\n",
       "\n",
       "    .dataframe thead th {\n",
       "        text-align: right;\n",
       "    }\n",
       "</style>\n",
       "<table border=\"1\" class=\"dataframe\">\n",
       "  <thead>\n",
       "    <tr style=\"text-align: right;\">\n",
       "      <th></th>\n",
       "      <th>product_id</th>\n",
       "      <th>product_name</th>\n",
       "      <th>category</th>\n",
       "      <th>sub_category</th>\n",
       "      <th>discounted_price</th>\n",
       "      <th>actual_price</th>\n",
       "      <th>discount_percentage</th>\n",
       "      <th>rating</th>\n",
       "      <th>rating_count</th>\n",
       "    </tr>\n",
       "  </thead>\n",
       "  <tbody>\n",
       "    <tr>\n",
       "      <th>0</th>\n",
       "      <td>B0912WJ87V</td>\n",
       "      <td>Reffar AX30 [MAX] Portable Ar Purfer for Car</td>\n",
       "      <td>Car&amp;Motorbike</td>\n",
       "      <td>AirPurifiers&amp;Ionizers</td>\n",
       "      <td>2339.0</td>\n",
       "      <td>4000.0</td>\n",
       "      <td>0.42</td>\n",
       "      <td>3.8</td>\n",
       "      <td>1118.0</td>\n",
       "    </tr>\n",
       "    <tr>\n",
       "      <th>1</th>\n",
       "      <td>B005FYNT3G</td>\n",
       "      <td>SanDsk Cruzer Blade 32GB USB Flash Drve</td>\n",
       "      <td>Computers&amp;Accessories</td>\n",
       "      <td>PenDrives</td>\n",
       "      <td>289.0</td>\n",
       "      <td>650.0</td>\n",
       "      <td>0.56</td>\n",
       "      <td>4.3</td>\n",
       "      <td>253105.0</td>\n",
       "    </tr>\n",
       "    <tr>\n",
       "      <th>2</th>\n",
       "      <td>B01N6LU1VF</td>\n",
       "      <td>SanDsk Ultra Dual 64 GB USB 3.0 OTG Pen Drve (...</td>\n",
       "      <td>Computers&amp;Accessories</td>\n",
       "      <td>ExternalDevices&amp;DataStorage</td>\n",
       "      <td>579.0</td>\n",
       "      <td>1400.0</td>\n",
       "      <td>0.59</td>\n",
       "      <td>4.3</td>\n",
       "      <td>189104.0</td>\n",
       "    </tr>\n",
       "    <tr>\n",
       "      <th>3</th>\n",
       "      <td>B002SZEOLG</td>\n",
       "      <td>TP Lnk Nano USB WF Dongle 150Mbps W F Adapter</td>\n",
       "      <td>Computers&amp;Accessories</td>\n",
       "      <td>WirelessUSBAdapters</td>\n",
       "      <td>749.0</td>\n",
       "      <td>1339.0</td>\n",
       "      <td>0.44</td>\n",
       "      <td>4.2</td>\n",
       "      <td>179692.0</td>\n",
       "    </tr>\n",
       "    <tr>\n",
       "      <th>4</th>\n",
       "      <td>B014I8SSD0</td>\n",
       "      <td>Amazon Bascs HDM Coupler</td>\n",
       "      <td>Electronics</td>\n",
       "      <td>Cables</td>\n",
       "      <td>309.0</td>\n",
       "      <td>475.0</td>\n",
       "      <td>0.35</td>\n",
       "      <td>4.4</td>\n",
       "      <td>426973.0</td>\n",
       "    </tr>\n",
       "    <tr>\n",
       "      <th>5</th>\n",
       "      <td>B014I8SX4Y</td>\n",
       "      <td>Amazon Bascs Hgh Speed HDM Cable</td>\n",
       "      <td>Electronics</td>\n",
       "      <td>Cables</td>\n",
       "      <td>309.0</td>\n",
       "      <td>1400.0</td>\n",
       "      <td>0.78</td>\n",
       "      <td>4.4</td>\n",
       "      <td>426973.0</td>\n",
       "    </tr>\n",
       "    <tr>\n",
       "      <th>6</th>\n",
       "      <td>B07KSMBL2H</td>\n",
       "      <td>AmazonBascs Double Braded Nylon Type C 2.0 Cable</td>\n",
       "      <td>Electronics</td>\n",
       "      <td>Cables</td>\n",
       "      <td>219.0</td>\n",
       "      <td>700.0</td>\n",
       "      <td>0.69</td>\n",
       "      <td>4.4</td>\n",
       "      <td>426973.0</td>\n",
       "    </tr>\n",
       "    <tr>\n",
       "      <th>7</th>\n",
       "      <td>B07BKSSDR2</td>\n",
       "      <td>D Lnk DWA 131 300 Mbps Wreless Nano USB Adapter</td>\n",
       "      <td>Health&amp;PersonalCare</td>\n",
       "      <td>WeighingScales</td>\n",
       "      <td>899.0</td>\n",
       "      <td>1900.0</td>\n",
       "      <td>0.53</td>\n",
       "      <td>4.0</td>\n",
       "      <td>3663.0</td>\n",
       "    </tr>\n",
       "    <tr>\n",
       "      <th>8</th>\n",
       "      <td>B01LWYDEQ7</td>\n",
       "      <td>Pgeon Polypropylene Mn Handy and Compact Chopper</td>\n",
       "      <td>Home&amp;Kitchen</td>\n",
       "      <td>ManualChoppers&amp;Chippers</td>\n",
       "      <td>199.0</td>\n",
       "      <td>495.0</td>\n",
       "      <td>0.60</td>\n",
       "      <td>4.1</td>\n",
       "      <td>270563.0</td>\n",
       "    </tr>\n",
       "    <tr>\n",
       "      <th>9</th>\n",
       "      <td>B07WMS7TWB</td>\n",
       "      <td>Pgeon by Stovekraft Amaze Plus Electrc Kettle</td>\n",
       "      <td>Home&amp;Kitchen</td>\n",
       "      <td>Kettles&amp;HotWaterDispensers</td>\n",
       "      <td>649.0</td>\n",
       "      <td>1245.0</td>\n",
       "      <td>0.48</td>\n",
       "      <td>3.9</td>\n",
       "      <td>123365.0</td>\n",
       "    </tr>\n",
       "    <tr>\n",
       "      <th>10</th>\n",
       "      <td>B01MQZ7J8K</td>\n",
       "      <td>Prestge Electrc Kettle PKOSS 1500watts</td>\n",
       "      <td>Home&amp;Kitchen</td>\n",
       "      <td>Kettles&amp;HotWaterDispensers</td>\n",
       "      <td>749.0</td>\n",
       "      <td>1445.0</td>\n",
       "      <td>0.48</td>\n",
       "      <td>3.9</td>\n",
       "      <td>63350.0</td>\n",
       "    </tr>\n",
       "    <tr>\n",
       "      <th>11</th>\n",
       "      <td>B07R99NBVB</td>\n",
       "      <td>GZGA Club laptop Neoprene for 15.6 nches Lapto...</td>\n",
       "      <td>HomeImprovement</td>\n",
       "      <td>Electrical</td>\n",
       "      <td>249.0</td>\n",
       "      <td>599.0</td>\n",
       "      <td>0.58</td>\n",
       "      <td>4.5</td>\n",
       "      <td>5985.0</td>\n",
       "    </tr>\n",
       "    <tr>\n",
       "      <th>12</th>\n",
       "      <td>B07WKBD37W</td>\n",
       "      <td>ESN Supreme Qualty 1500W mmerson Water Heater Rod</td>\n",
       "      <td>HomeImprovement</td>\n",
       "      <td>Electrical</td>\n",
       "      <td>425.0</td>\n",
       "      <td>999.0</td>\n",
       "      <td>0.57</td>\n",
       "      <td>4.0</td>\n",
       "      <td>2581.0</td>\n",
       "    </tr>\n",
       "    <tr>\n",
       "      <th>13</th>\n",
       "      <td>B076B8G5D8</td>\n",
       "      <td>Boult Audo ZCharge Wreless n Ear Earphones</td>\n",
       "      <td>MusicalInstruments</td>\n",
       "      <td>Microphones</td>\n",
       "      <td>798.0</td>\n",
       "      <td>1995.0</td>\n",
       "      <td>0.60</td>\n",
       "      <td>4.0</td>\n",
       "      <td>68664.0</td>\n",
       "    </tr>\n",
       "    <tr>\n",
       "      <th>14</th>\n",
       "      <td>B07JF9B592</td>\n",
       "      <td>MAONO AU 400 Lavaler Auxlary Omndrectonal Mcro...</td>\n",
       "      <td>MusicalInstruments</td>\n",
       "      <td>Microphones</td>\n",
       "      <td>478.0</td>\n",
       "      <td>699.0</td>\n",
       "      <td>0.32</td>\n",
       "      <td>3.8</td>\n",
       "      <td>20218.0</td>\n",
       "    </tr>\n",
       "    <tr>\n",
       "      <th>15</th>\n",
       "      <td>B00AXHBBXU</td>\n",
       "      <td>CARECASE Optcal Bay 2nd Hard Drve Caddy</td>\n",
       "      <td>OfficeProducts</td>\n",
       "      <td>Scientific</td>\n",
       "      <td>522.0</td>\n",
       "      <td>550.0</td>\n",
       "      <td>0.05</td>\n",
       "      <td>4.4</td>\n",
       "      <td>12179.0</td>\n",
       "    </tr>\n",
       "    <tr>\n",
       "      <th>16</th>\n",
       "      <td>B00UGZWM2I</td>\n",
       "      <td>Classmate Soft Cover 6 Subject Spral Bndng Not...</td>\n",
       "      <td>OfficeProducts</td>\n",
       "      <td>OfficePaperProducts</td>\n",
       "      <td>198.0</td>\n",
       "      <td>800.0</td>\n",
       "      <td>0.75</td>\n",
       "      <td>4.1</td>\n",
       "      <td>9344.0</td>\n",
       "    </tr>\n",
       "    <tr>\n",
       "      <th>17</th>\n",
       "      <td>B00P93X0VO</td>\n",
       "      <td>Classmate Pulse 1 Subject Notebook 240mm x 180mm</td>\n",
       "      <td>OfficeProducts</td>\n",
       "      <td>OfficePaperProducts</td>\n",
       "      <td>114.0</td>\n",
       "      <td>120.0</td>\n",
       "      <td>0.05</td>\n",
       "      <td>4.2</td>\n",
       "      <td>8938.0</td>\n",
       "    </tr>\n",
       "    <tr>\n",
       "      <th>18</th>\n",
       "      <td>B00DJ5N9VK</td>\n",
       "      <td>EYNK Extra Long Mcro USB Fast Chargng USB Cable</td>\n",
       "      <td>Toys&amp;Games</td>\n",
       "      <td>Arts&amp;Crafts</td>\n",
       "      <td>150.0</td>\n",
       "      <td>150.0</td>\n",
       "      <td>0.00</td>\n",
       "      <td>4.3</td>\n",
       "      <td>15867.0</td>\n",
       "    </tr>\n",
       "  </tbody>\n",
       "</table>\n",
       "</div>"
      ],
      "text/plain": [
       "    product_id                                       product_name  \\\n",
       "0   B0912WJ87V       Reffar AX30 [MAX] Portable Ar Purfer for Car   \n",
       "1   B005FYNT3G            SanDsk Cruzer Blade 32GB USB Flash Drve   \n",
       "2   B01N6LU1VF  SanDsk Ultra Dual 64 GB USB 3.0 OTG Pen Drve (...   \n",
       "3   B002SZEOLG      TP Lnk Nano USB WF Dongle 150Mbps W F Adapter   \n",
       "4   B014I8SSD0                           Amazon Bascs HDM Coupler   \n",
       "5   B014I8SX4Y                   Amazon Bascs Hgh Speed HDM Cable   \n",
       "6   B07KSMBL2H   AmazonBascs Double Braded Nylon Type C 2.0 Cable   \n",
       "7   B07BKSSDR2    D Lnk DWA 131 300 Mbps Wreless Nano USB Adapter   \n",
       "8   B01LWYDEQ7   Pgeon Polypropylene Mn Handy and Compact Chopper   \n",
       "9   B07WMS7TWB      Pgeon by Stovekraft Amaze Plus Electrc Kettle   \n",
       "10  B01MQZ7J8K             Prestge Electrc Kettle PKOSS 1500watts   \n",
       "11  B07R99NBVB  GZGA Club laptop Neoprene for 15.6 nches Lapto...   \n",
       "12  B07WKBD37W  ESN Supreme Qualty 1500W mmerson Water Heater Rod   \n",
       "13  B076B8G5D8         Boult Audo ZCharge Wreless n Ear Earphones   \n",
       "14  B07JF9B592  MAONO AU 400 Lavaler Auxlary Omndrectonal Mcro...   \n",
       "15  B00AXHBBXU            CARECASE Optcal Bay 2nd Hard Drve Caddy   \n",
       "16  B00UGZWM2I  Classmate Soft Cover 6 Subject Spral Bndng Not...   \n",
       "17  B00P93X0VO   Classmate Pulse 1 Subject Notebook 240mm x 180mm   \n",
       "18  B00DJ5N9VK    EYNK Extra Long Mcro USB Fast Chargng USB Cable   \n",
       "\n",
       "                 category                 sub_category  discounted_price  \\\n",
       "0           Car&Motorbike        AirPurifiers&Ionizers            2339.0   \n",
       "1   Computers&Accessories                    PenDrives             289.0   \n",
       "2   Computers&Accessories  ExternalDevices&DataStorage             579.0   \n",
       "3   Computers&Accessories          WirelessUSBAdapters             749.0   \n",
       "4             Electronics                       Cables             309.0   \n",
       "5             Electronics                       Cables             309.0   \n",
       "6             Electronics                       Cables             219.0   \n",
       "7     Health&PersonalCare               WeighingScales             899.0   \n",
       "8            Home&Kitchen      ManualChoppers&Chippers             199.0   \n",
       "9            Home&Kitchen   Kettles&HotWaterDispensers             649.0   \n",
       "10           Home&Kitchen   Kettles&HotWaterDispensers             749.0   \n",
       "11        HomeImprovement                   Electrical             249.0   \n",
       "12        HomeImprovement                   Electrical             425.0   \n",
       "13     MusicalInstruments                  Microphones             798.0   \n",
       "14     MusicalInstruments                  Microphones             478.0   \n",
       "15         OfficeProducts                   Scientific             522.0   \n",
       "16         OfficeProducts          OfficePaperProducts             198.0   \n",
       "17         OfficeProducts          OfficePaperProducts             114.0   \n",
       "18             Toys&Games                  Arts&Crafts             150.0   \n",
       "\n",
       "    actual_price  discount_percentage  rating  rating_count  \n",
       "0         4000.0                 0.42     3.8        1118.0  \n",
       "1          650.0                 0.56     4.3      253105.0  \n",
       "2         1400.0                 0.59     4.3      189104.0  \n",
       "3         1339.0                 0.44     4.2      179692.0  \n",
       "4          475.0                 0.35     4.4      426973.0  \n",
       "5         1400.0                 0.78     4.4      426973.0  \n",
       "6          700.0                 0.69     4.4      426973.0  \n",
       "7         1900.0                 0.53     4.0        3663.0  \n",
       "8          495.0                 0.60     4.1      270563.0  \n",
       "9         1245.0                 0.48     3.9      123365.0  \n",
       "10        1445.0                 0.48     3.9       63350.0  \n",
       "11         599.0                 0.58     4.5        5985.0  \n",
       "12         999.0                 0.57     4.0        2581.0  \n",
       "13        1995.0                 0.60     4.0       68664.0  \n",
       "14         699.0                 0.32     3.8       20218.0  \n",
       "15         550.0                 0.05     4.4       12179.0  \n",
       "16         800.0                 0.75     4.1        9344.0  \n",
       "17         120.0                 0.05     4.2        8938.0  \n",
       "18         150.0                 0.00     4.3       15867.0  "
      ]
     },
     "execution_count": 55,
     "metadata": {},
     "output_type": "execute_result"
    }
   ],
   "source": [
    "top_n =3  # For example, top 3 products per category\n",
    "\n",
    "df_grouped = df.groupby('category').apply(lambda x: x.nlargest(top_n,'rating_count')).reset_index(drop=True)\n",
    "df_grouped"
   ]
  },
  {
   "cell_type": "markdown",
   "metadata": {},
   "source": [
    "***The top 3 products within each category based on the 'rating_count' metric. This analysis highlights products with the highest customer engagement for each category.***"
   ]
  },
  {
   "cell_type": "markdown",
   "metadata": {},
   "source": [
    "## Q3. What is the average discount percentage across categories?"
   ]
  },
  {
   "cell_type": "code",
   "execution_count": 56,
   "metadata": {
    "execution": {
     "iopub.execute_input": "2024-08-15T05:42:14.212878Z",
     "iopub.status.busy": "2024-08-15T05:42:14.211993Z",
     "iopub.status.idle": "2024-08-15T05:42:14.224070Z",
     "shell.execute_reply": "2024-08-15T05:42:14.222796Z",
     "shell.execute_reply.started": "2024-08-15T05:42:14.212843Z"
    }
   },
   "outputs": [
    {
     "name": "stdout",
     "output_type": "stream",
     "text": [
      "category\n",
      "HomeImprovement          0.575000\n",
      "Computers&Accessories    0.537436\n",
      "Health&PersonalCare      0.530000\n",
      "Electronics              0.506371\n",
      "MusicalInstruments       0.460000\n",
      "Car&Motorbike            0.420000\n",
      "Home&Kitchen             0.401205\n",
      "OfficeProducts           0.123548\n",
      "Toys&Games               0.000000\n",
      "Name: discount_percentage, dtype: float64\n"
     ]
    }
   ],
   "source": [
    "avg_discount = df.groupby('category')['discount_percentage'].mean().sort_values(ascending=False)\n",
    "print(avg_discount)"
   ]
  },
  {
   "cell_type": "code",
   "execution_count": 58,
   "metadata": {
    "execution": {
     "iopub.execute_input": "2024-08-15T05:43:01.476180Z",
     "iopub.status.busy": "2024-08-15T05:43:01.475175Z",
     "iopub.status.idle": "2024-08-15T05:43:01.819518Z",
     "shell.execute_reply": "2024-08-15T05:43:01.818364Z",
     "shell.execute_reply.started": "2024-08-15T05:43:01.476140Z"
    }
   },
   "outputs": [
    {
     "data": {
      "image/png": "[encoded data removed]",
      "text/plain": [
       "<Figure size 1200x1200 with 1 Axes>"
      ]
     },
     "metadata": {},
     "output_type": "display_data"
    }
   ],
   "source": [
    "# Plot a pie chart for the average discount percentage by category\n",
    "plt.figure(figsize=(8, 8),dpi=150)\n",
    "plt.pie(avg_discount, labels=avg_discount.index, autopct='%1.1f%%', startangle=140)\n",
    "plt.title(\"Average Discount Percentage by Category\")\n",
    "plt.show()"
   ]
  },
  {
   "cell_type": "markdown",
   "metadata": {},
   "source": [
    "***Home Improvement leads in average discounts, followed by Computers & Accessories and Health & Personal Care. Toys & Games and Office Products offer significantly lower discounts. This analysis suggests potential for optimized pricing and promotional strategies based on category-specific trends.***"
   ]
  },
  {
   "cell_type": "markdown",
   "metadata": {},
   "source": [
    "## Q4. What are the most popular product name?"
   ]
  },
  {
   "cell_type": "code",
   "execution_count": 61,
   "metadata": {
    "execution": {
     "iopub.execute_input": "2024-08-15T05:47:15.316933Z",
     "iopub.status.busy": "2024-08-15T05:47:15.316363Z",
     "iopub.status.idle": "2024-08-15T05:47:15.331240Z",
     "shell.execute_reply": "2024-08-15T05:47:15.329969Z",
     "shell.execute_reply.started": "2024-08-15T05:47:15.316873Z"
    }
   },
   "outputs": [
    {
     "data": {
      "text/plain": [
       "product_name\n",
       "Fre Boltt Nnja Call Pro Plus 1.83 Smart Watch            5\n",
       "Ambrane 60W or 3A Fast Chargng Output Cable              5\n",
       "boAt Wave Call Smart Watch                               5\n",
       "Fre Boltt Phoenx Smart Watch wth Bluetooth Callng 1.3    4\n",
       "Fre Boltt Nnja 3 Smartwatch                              4\n",
       "SanDsk Ultra mcroSDXC UHS Card                           4\n",
       "boAt Xtend Smartwatch wth Alexa Bult n                   4\n",
       "AmazonBascs USB 2.0 Extenson Cable                       3\n",
       "PTron Force X10 Bluetooth Callng Smartwatch              3\n",
       "Samsung Galaxy M13 5G (Aqua Green                        3\n",
       "Name: count, dtype: int64"
      ]
     },
     "execution_count": 61,
     "metadata": {},
     "output_type": "execute_result"
    }
   ],
   "source": [
    "product_counts = df[\"product_name\"].value_counts()\n",
    "product_counts.sort_values(ascending=False).head(10)"
   ]
  },
  {
   "cell_type": "markdown",
   "metadata": {},
   "source": [
    "***These products all have a count of 5, indicating that they were purchased more frequently than any other products in the dataset.***\n",
    "\n",
    "***It's important to consider that this analysis only considers sales data and doesn't take into account factors such as product margin or profit.  A more comprehensive analysis would combine sales data with other relevant metrics to determine which products are most profitable.***"
   ]
  },
  {
   "cell_type": "markdown",
   "metadata": {},
   "source": [
    "## Q5. What are the most popular product keyword?"
   ]
  },
  {
   "cell_type": "code",
   "execution_count": 80,
   "metadata": {
    "execution": {
     "iopub.execute_input": "2024-08-15T07:13:42.285851Z",
     "iopub.status.busy": "2024-08-15T07:13:42.285290Z",
     "iopub.status.idle": "2024-08-15T07:13:42.315748Z",
     "shell.execute_reply": "2024-08-15T07:13:42.314281Z",
     "shell.execute_reply.started": "2024-08-15T07:13:42.285813Z"
    }
   },
   "outputs": [
    {
     "name": "stdout",
     "output_type": "stream",
     "text": [
      "cable      243\n",
      "usb        234\n",
      "c          134\n",
      "smart      124\n",
      "chargng    112\n",
      "for        109\n",
      "type       107\n",
      "tv         100\n",
      "wth         99\n",
      "fast        97\n",
      "Name: count, dtype: int64\n"
     ]
    }
   ],
   "source": [
    "def extract_keywords(product_name):\n",
    "    \"\"\"Extracts keywords from a product name, handling potential numbers.\"\"\"\n",
    "    if isinstance(product_name, str):  # Check if it's a string\n",
    "        keywords = product_name.lower().split()  # Split into words and lowercase\n",
    "        keywords = [word for word in keywords if word.isalpha()]  # Remove non-alphabetical characters\n",
    "    else:\n",
    "        keywords = []  # Handle non-string values (e.g., integers) by returning an empty list\n",
    "    return keywords\n",
    "\n",
    "# Apply the function to extract keywords\n",
    "df[\"keywords\"] = df[\"product_name\"].apply(extract_keywords)\n",
    "\n",
    "# Flatten the list of keywords\n",
    "all_keywords = [keyword for keywords in df[\"keywords\"] for keyword in keywords]\n",
    "\n",
    "# Count keyword occurrences\n",
    "keyword_counts = pd.Series(all_keywords).value_counts()\n",
    "\n",
    "# Display the top 10 most popular keywords\n",
    "print(keyword_counts.head(10))"
   ]
  },
  {
   "cell_type": "markdown",
   "metadata": {},
   "source": [
    "***The most frequently occurring keywords in the product dataset are primarily related to electronics and accessories, with \"cable,\" \"usb,\" and \"chargng\" leading the list. This suggests a strong focus on these product categories within the dataset. Additional keywords such as \"smart,\" \"type,\" and \"fast\" highlight specific product attributes and features that are popular among customers.***"
   ]
  },
  {
   "cell_type": "markdown",
   "metadata": {},
   "source": [
    "## Q6. What are the Top 5 sub_categories based with highest ratings?\n"
   ]
  },
  {
   "cell_type": "code",
   "execution_count": 63,
   "metadata": {
    "execution": {
     "iopub.execute_input": "2024-08-15T05:51:02.702874Z",
     "iopub.status.busy": "2024-08-15T05:51:02.702296Z",
     "iopub.status.idle": "2024-08-15T05:51:02.718722Z",
     "shell.execute_reply": "2024-08-15T05:51:02.717210Z",
     "shell.execute_reply.started": "2024-08-15T05:51:02.702836Z"
    }
   },
   "outputs": [
    {
     "name": "stdout",
     "output_type": "stream",
     "text": [
      "Top 5 sub_categories with highest average ratings:\n",
      "1. MobileAccessories: 4.60\n",
      "2. Tablets: 4.60\n",
      "3. DeepFatFryers: 4.53\n",
      "4. PowerAccessories: 4.50\n",
      "5. ExternalHardDisks: 4.50\n"
     ]
    }
   ],
   "source": [
    "average_ratings = df.groupby(\"sub_category\")[\"rating\"].mean().reset_index()\n",
    "\n",
    "# Sort by average rating in descending order\n",
    "average_ratings = average_ratings.sort_values(by=\"rating\", ascending=False)\n",
    "\n",
    "# Print the top 5 sub_categories\n",
    "print(\"Top 5 sub_categories with highest average ratings:\")\n",
    "for i in range(5):\n",
    "    sub_category = average_ratings.iloc[i][\"sub_category\"]\n",
    "    average_rating = average_ratings.iloc[i][\"rating\"]\n",
    "    print(f\"{i+1}. {sub_category}: {average_rating:.2f}\")"
   ]
  },
  {
   "cell_type": "markdown",
   "metadata": {},
   "source": [
    "***Mobile Accessories and Tablets emerged as the top-rated sub-categories with an average rating of 4.60, followed closely by Deep Fat Fryers at 4.53. Power Accessories and External Hard Disks also demonstrated strong performance with average ratings of 4.50.***"
   ]
  },
  {
   "cell_type": "markdown",
   "metadata": {},
   "source": [
    "## Q7. Which sub-categories have the lowest average rating?"
   ]
  },
  {
   "cell_type": "code",
   "execution_count": 64,
   "metadata": {
    "execution": {
     "iopub.execute_input": "2024-08-15T05:52:07.109287Z",
     "iopub.status.busy": "2024-08-15T05:52:07.108119Z",
     "iopub.status.idle": "2024-08-15T05:52:07.124923Z",
     "shell.execute_reply": "2024-08-15T05:52:07.123065Z",
     "shell.execute_reply.started": "2024-08-15T05:52:07.109239Z"
    }
   },
   "outputs": [
    {
     "name": "stdout",
     "output_type": "stream",
     "text": [
      "sub_category\n",
      "CoffeeGrinders    3.300000\n",
      "3DGlasses         3.500000\n",
      "Lapdesks          3.500000\n",
      "VacuumSealers     3.583333\n",
      "USBGadgets        3.600000\n",
      "Name: rating, dtype: float64\n"
     ]
    }
   ],
   "source": [
    "low_rated_sub_categories = df.groupby('sub_category')['rating'].mean().sort_values().head(5)\n",
    "print(low_rated_sub_categories)"
   ]
  },
  {
   "cell_type": "markdown",
   "metadata": {},
   "source": [
    "***The sub-categories with the lowest average ratings are Coffee Grinders (3.30), followed by 3D Glasses and Lapdesks (both at 3.50). Vacuum Sealers and USB Gadgets also have relatively low average ratings of 3.58 and 3.60, respectively.***"
   ]
  },
  {
   "cell_type": "markdown",
   "metadata": {},
   "source": [
    "## Q8. Which sub-category offers the best value for money (rating per unit of price)?"
   ]
  },
  {
   "cell_type": "code",
   "execution_count": 65,
   "metadata": {
    "execution": {
     "iopub.execute_input": "2024-08-15T05:53:03.091328Z",
     "iopub.status.busy": "2024-08-15T05:53:03.090738Z",
     "iopub.status.idle": "2024-08-15T05:53:03.106981Z",
     "shell.execute_reply": "2024-08-15T05:53:03.105511Z",
     "shell.execute_reply.started": "2024-08-15T05:53:03.091289Z"
    }
   },
   "outputs": [
    {
     "data": {
      "text/plain": [
       "sub_category\n",
       "USBGadgets                   0.092308\n",
       "Stationery                   0.086000\n",
       "Keyboard&MiceAccessories     0.061151\n",
       "DÃ©cor                       0.044068\n",
       "CableConnectionProtectors    0.041414\n",
       "IroningAccessories           0.035229\n",
       "CraftMaterials               0.032210\n",
       "Cables&Adapters              0.030576\n",
       "Tape                         0.030000\n",
       "Stands                       0.029081\n",
       "Name: value_for_money, dtype: float64"
      ]
     },
     "execution_count": 65,
     "metadata": {},
     "output_type": "execute_result"
    }
   ],
   "source": [
    "df['value_for_money'] = df['rating'] / df['discounted_price']\n",
    "best_value = df.groupby('sub_category')['value_for_money'].mean().sort_values(ascending=False)\n",
    "best_value.head(10)"
   ]
  },
  {
   "cell_type": "markdown",
   "metadata": {},
   "source": [
    "***The sub-category offering the best value for money, as determined by the ratio of rating to discounted price, is USB Gadgets, followed by Stationery and Keyboard & Mice Accessories. These categories demonstrate a higher perceived value compared to their price point.***"
   ]
  },
  {
   "cell_type": "markdown",
   "metadata": {},
   "source": [
    "## Q9. Which category has the highest total sales value (discounted price * rating_count)?"
   ]
  },
  {
   "cell_type": "code",
   "execution_count": 71,
   "metadata": {
    "execution": {
     "iopub.execute_input": "2024-08-15T05:55:27.303211Z",
     "iopub.status.busy": "2024-08-15T05:55:27.302760Z",
     "iopub.status.idle": "2024-08-15T05:55:27.314487Z",
     "shell.execute_reply": "2024-08-15T05:55:27.313271Z",
     "shell.execute_reply.started": "2024-08-15T05:55:27.303178Z"
    }
   },
   "outputs": [
    {
     "name": "stdout",
     "output_type": "stream",
     "text": [
      "category\n",
      "Electronics              59,041,316.87k\n",
      "Computers&Accessories     6,284,979.13k\n",
      "Home&Kitchen              6,264,336.18k\n",
      "MusicalInstruments           64,458.08k\n",
      "OfficeProducts               45,786.73k\n",
      "Health&PersonalCare           3,293.04k\n",
      "Car&Motorbike                 2,615.00k\n",
      "HomeImprovement               2,587.19k\n",
      "Toys&Games                    2,380.05k\n",
      "Name: total_sales_value, dtype: object\n"
     ]
    }
   ],
   "source": [
    "df['total_sales_value'] = df['discounted_price'] * df['rating_count']\n",
    "total_sales = df.groupby('category')['total_sales_value'].sum().sort_values(ascending=False)\n",
    "total_sales_k = total_sales / 1000\n",
    "\n",
    "# Print the total sales value in thousands\n",
    "print(total_sales_k.apply(lambda x: f'{x:,.2f}k'))"
   ]
  },
  {
   "cell_type": "markdown",
   "metadata": {},
   "source": [
    "***Electronics emerges as the category with the highest total sales value, generating a substantial 59,041,316.87k. Computers & Accessories and Home & Kitchen follow as strong performers, while the remaining categories exhibit significantly lower total sales values.***"
   ]
  },
  {
   "cell_type": "markdown",
   "metadata": {},
   "source": [
    "## 10. Which sub-category has the highest average rating?"
   ]
  },
  {
   "cell_type": "code",
   "execution_count": 76,
   "metadata": {
    "execution": {
     "iopub.execute_input": "2024-08-15T05:58:14.542366Z",
     "iopub.status.busy": "2024-08-15T05:58:14.541952Z",
     "iopub.status.idle": "2024-08-15T05:58:14.554267Z",
     "shell.execute_reply": "2024-08-15T05:58:14.553063Z",
     "shell.execute_reply.started": "2024-08-15T05:58:14.542336Z"
    }
   },
   "outputs": [
    {
     "data": {
      "text/plain": [
       "sub_category\n",
       "MobileAccessories             4.600000\n",
       "Tablets                       4.600000\n",
       "DeepFatFryers                 4.525000\n",
       "PowerAccessories              4.500000\n",
       "ExternalHardDisks             4.500000\n",
       "StreamingClients              4.500000\n",
       "CoffeePresses                 4.500000\n",
       "PaintingMaterials             4.500000\n",
       "Maintenance,Upkeep&Repairs    4.471429\n",
       "OfficeElectronics             4.450000\n",
       "Name: rating, dtype: float64"
      ]
     },
     "execution_count": 76,
     "metadata": {},
     "output_type": "execute_result"
    }
   ],
   "source": [
    "top_sub_category = df.groupby('sub_category')['rating'].mean().sort_values(ascending=False)\n",
    "top_sub_category.head(10)"
   ]
  },
  {
   "cell_type": "markdown",
   "metadata": {},
   "source": [
    "***Mobile Accessories and Tablets share the top spot with the highest average rating of 4.60. Deep Fat Fryers follow closely behind with a rating of 4.52. Several other sub-categories, including Power Accessories, External Hard Disks, Streaming Clients, Coffee Presses, Painting Materials, Maintenance, Upkeep & Repairs, and Office Electronics, also demonstrate high average ratings.***"
   ]
  }
 ],
 "metadata": {
  "kaggle": {
   "accelerator": "none",
   "dataSources": [
    {
     "datasetId": 5540031,
     "sourceId": 9168287,
     "sourceType": "datasetVersion"
    }
   ],
   "dockerImageVersionId": 30746,
   "isGpuEnabled": false,
   "isInternetEnabled": false,
   "language": "python",
   "sourceType": "notebook"
  },
  "kernelspec": {
   "display_name": "Python 3 (ipykernel)",
   "language": "python",
   "name": "python3"
  },
  "language_info": {
   "codemirror_mode": {
    "name": "ipython",
    "version": 3
   },
   "file_extension": ".py",
   "mimetype": "text/x-python",
   "name": "python",
   "nbconvert_exporter": "python",
   "pygments_lexer": "ipython3",
   "version": "3.10.9"
  }
 },
 "nbformat": 4,
 "nbformat_minor": 4
}
